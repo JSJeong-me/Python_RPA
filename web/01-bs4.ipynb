{
  "cells": [
    {
      "cell_type": "markdown",
      "metadata": {
        "id": "view-in-github",
        "colab_type": "text"
      },
      "source": [
        "<a href=\"https://colab.research.google.com/github/JSJeong-me/Python_RPA/blob/main/web/01-bs4.ipynb\" target=\"_parent\"><img src=\"https://colab.research.google.com/assets/colab-badge.svg\" alt=\"Open In Colab\"/></a>"
      ]
    },
    {
      "cell_type": "code",
      "execution_count": null,
      "id": "7e840927-4215-4a88-af14-c9cc3f1166da",
      "metadata": {
        "id": "7e840927-4215-4a88-af14-c9cc3f1166da"
      },
      "outputs": [],
      "source": [
        "import requests\n",
        "from bs4 import BeautifulSoup\n",
        "import pandas as pd"
      ]
    },
    {
      "cell_type": "code",
      "execution_count": null,
      "id": "df5f0019-9d50-4c13-a52b-f21e19d7fd8b",
      "metadata": {
        "id": "df5f0019-9d50-4c13-a52b-f21e19d7fd8b"
      },
      "outputs": [],
      "source": [
        "tag = \"<p class='youngone' id='junu'> Hello World! </p>\""
      ]
    },
    {
      "cell_type": "code",
      "execution_count": null,
      "id": "db2ea619-0746-4949-b586-f9bd7a545efd",
      "metadata": {
        "id": "db2ea619-0746-4949-b586-f9bd7a545efd"
      },
      "outputs": [],
      "source": [
        "soup = BeautifulSoup(tag)"
      ]
    },
    {
      "cell_type": "code",
      "execution_count": null,
      "id": "8dc467bb-5287-46c0-8d1b-a7770f0eb3e0",
      "metadata": {
        "colab": {
          "base_uri": "https://localhost:8080/"
        },
        "id": "8dc467bb-5287-46c0-8d1b-a7770f0eb3e0",
        "outputId": "40223694-8a76-4753-c564-b6a7da15ee4d"
      },
      "outputs": [
        {
          "output_type": "execute_result",
          "data": {
            "text/plain": [
              "<html><body><p class=\"youngone\" id=\"junu\"> Hello World! </p></body></html>"
            ]
          },
          "metadata": {},
          "execution_count": 4
        }
      ],
      "source": [
        "soup"
      ]
    },
    {
      "cell_type": "code",
      "execution_count": null,
      "id": "cd37944b-c1e1-468e-865c-6a1fc61569c5",
      "metadata": {
        "colab": {
          "base_uri": "https://localhost:8080/"
        },
        "id": "cd37944b-c1e1-468e-865c-6a1fc61569c5",
        "outputId": "6870917a-ed68-479d-cb3e-8db4ef2de69a"
      },
      "outputs": [
        {
          "output_type": "execute_result",
          "data": {
            "text/plain": [
              "<p class=\"youngone\" id=\"junu\"> Hello World! </p>"
            ]
          },
          "metadata": {},
          "execution_count": 5
        }
      ],
      "source": [
        "soup.find('p')"
      ]
    },
    {
      "cell_type": "code",
      "source": [
        "soup.find(class_='youngone')"
      ],
      "metadata": {
        "colab": {
          "base_uri": "https://localhost:8080/"
        },
        "id": "hW2VjwWbshB2",
        "outputId": "388c1edc-31ae-45c6-c6f0-cb2fbdb0d08a"
      },
      "id": "hW2VjwWbshB2",
      "execution_count": null,
      "outputs": [
        {
          "output_type": "execute_result",
          "data": {
            "text/plain": [
              "<p class=\"youngone\" id=\"junu\"> Hello World! </p>"
            ]
          },
          "metadata": {},
          "execution_count": 6
        }
      ]
    },
    {
      "cell_type": "code",
      "execution_count": null,
      "id": "6b81aece-56cb-4fe6-925a-e7e13e2dc0fd",
      "metadata": {
        "colab": {
          "base_uri": "https://localhost:8080/"
        },
        "id": "6b81aece-56cb-4fe6-925a-e7e13e2dc0fd",
        "outputId": "62c90be9-5b8c-41fd-f43f-57dc0f9ea4f4"
      },
      "outputs": [
        {
          "output_type": "execute_result",
          "data": {
            "text/plain": [
              "<p class=\"youngone\" id=\"junu\"> Hello World! </p>"
            ]
          },
          "metadata": {},
          "execution_count": 7
        }
      ],
      "source": [
        "soup.find(attrs = {'class':'youngone'})"
      ]
    },
    {
      "cell_type": "code",
      "execution_count": null,
      "id": "302f11cb-ffd2-49d9-88a5-d402623b8247",
      "metadata": {
        "colab": {
          "base_uri": "https://localhost:8080/"
        },
        "id": "302f11cb-ffd2-49d9-88a5-d402623b8247",
        "outputId": "daf2955b-90dc-4664-ec7e-9617444aba21"
      },
      "outputs": [
        {
          "output_type": "execute_result",
          "data": {
            "text/plain": [
              "<p class=\"youngone\" id=\"junu\"> Hello World! </p>"
            ]
          },
          "metadata": {},
          "execution_count": 8
        }
      ],
      "source": [
        "soup.find('p', class_='youngone')"
      ]
    },
    {
      "cell_type": "code",
      "execution_count": null,
      "id": "196c75a1-cdff-447c-a1ce-981f06f09a45",
      "metadata": {
        "id": "196c75a1-cdff-447c-a1ce-981f06f09a45"
      },
      "outputs": [],
      "source": [
        "tag = \"<p class='youngone' id='junu'> Hello World! </p>\"\n",
        "soup = BeautifulSoup(tag)\n",
        "object_tag = soup.find('p')"
      ]
    },
    {
      "cell_type": "code",
      "execution_count": null,
      "id": "5957b651-bd20-4f20-b23a-90b0344c0d54",
      "metadata": {
        "colab": {
          "base_uri": "https://localhost:8080/",
          "height": 35
        },
        "id": "5957b651-bd20-4f20-b23a-90b0344c0d54",
        "outputId": "a4a0a23b-91d6-4cbe-a7e3-db8c219f95d5"
      },
      "outputs": [
        {
          "output_type": "execute_result",
          "data": {
            "text/plain": [
              "'p'"
            ],
            "application/vnd.google.colaboratory.intrinsic+json": {
              "type": "string"
            }
          },
          "metadata": {},
          "execution_count": 10
        }
      ],
      "source": [
        "#태그의 이름\n",
        "object_tag.name\n",
        "#결과: 'p'"
      ]
    },
    {
      "cell_type": "code",
      "execution_count": null,
      "id": "9837c71a-2d0e-4011-bd9a-7e22b53a5530",
      "metadata": {
        "colab": {
          "base_uri": "https://localhost:8080/",
          "height": 35
        },
        "id": "9837c71a-2d0e-4011-bd9a-7e22b53a5530",
        "outputId": "e4bb6d42-34f0-4dbd-e28b-22b16a33bb24"
      },
      "outputs": [
        {
          "output_type": "execute_result",
          "data": {
            "text/plain": [
              "' Hello World! '"
            ],
            "application/vnd.google.colaboratory.intrinsic+json": {
              "type": "string"
            }
          },
          "metadata": {},
          "execution_count": 11
        }
      ],
      "source": [
        "#태그에 담긴 텍스트\n",
        "object_tag.text\n",
        "#결과: ' Hello World! '"
      ]
    },
    {
      "cell_type": "code",
      "execution_count": null,
      "id": "8aaf6ddf-0313-4c25-8623-8e76d30ee643",
      "metadata": {
        "colab": {
          "base_uri": "https://localhost:8080/"
        },
        "id": "8aaf6ddf-0313-4c25-8623-8e76d30ee643",
        "outputId": "6a5af43b-4774-4cc5-f3cc-7d7af2d9bfa7"
      },
      "outputs": [
        {
          "output_type": "execute_result",
          "data": {
            "text/plain": [
              "{'class': ['youngone'], 'id': 'junu'}"
            ]
          },
          "metadata": {},
          "execution_count": 12
        }
      ],
      "source": [
        "#태그의 속성과 속성값\n",
        "object_tag.attrs\n",
        "#결과: {'class': ['youngone'], 'id': 'junu'}"
      ]
    },
    {
      "cell_type": "code",
      "source": [
        "html_doc = \"\"\"\n",
        "<html><head><title>The Dormouse's story</title></head>\n",
        "<body>\n",
        "<p class=\"title\"><b>The Dormouse's story</b></p>\n",
        "\n",
        "<p class=\"story\">Once upon a time there were three little sisters; and their names were\n",
        "<a href=\"http://example.com/elsie\" class=\"sister\" id=\"link1\">Elsie</a>,\n",
        "<a href=\"http://example.com/lacie\" class=\"sister\" id=\"link2\">Lacie</a> and\n",
        "<a href=\"http://example.com/tillie\" class=\"sister\" id=\"link3\">Tillie</a>;\n",
        "and they lived at the bottom of a well.</p>\n",
        "\n",
        "<p class=\"story\">...</p>\n",
        "\"\"\""
      ],
      "metadata": {
        "id": "OQadyNnBs6L8"
      },
      "id": "OQadyNnBs6L8",
      "execution_count": null,
      "outputs": []
    },
    {
      "cell_type": "code",
      "source": [
        "from bs4 import BeautifulSoup\n",
        "soup = BeautifulSoup(html_doc, 'html.parser')"
      ],
      "metadata": {
        "id": "24yhYp1itF-t"
      },
      "id": "24yhYp1itF-t",
      "execution_count": null,
      "outputs": []
    },
    {
      "cell_type": "code",
      "source": [
        "soup"
      ],
      "metadata": {
        "colab": {
          "base_uri": "https://localhost:8080/"
        },
        "id": "VacsDkEHtHjK",
        "outputId": "5f97c325-541d-4dc7-a997-3fd970fc97ea"
      },
      "id": "VacsDkEHtHjK",
      "execution_count": null,
      "outputs": [
        {
          "output_type": "execute_result",
          "data": {
            "text/plain": [
              "\n",
              "<html><head><title>The Dormouse's story</title></head>\n",
              "<body>\n",
              "<p class=\"title\"><b>The Dormouse's story</b></p>\n",
              "<p class=\"story\">Once upon a time there were three little sisters; and their names were\n",
              "<a class=\"sister\" href=\"http://example.com/elsie\" id=\"link1\">Elsie</a>,\n",
              "<a class=\"sister\" href=\"http://example.com/lacie\" id=\"link2\">Lacie</a> and\n",
              "<a class=\"sister\" href=\"http://example.com/tillie\" id=\"link3\">Tillie</a>;\n",
              "and they lived at the bottom of a well.</p>\n",
              "<p class=\"story\">...</p>\n",
              "</body></html>"
            ]
          },
          "metadata": {},
          "execution_count": 15
        }
      ]
    },
    {
      "cell_type": "code",
      "source": [
        "soup.title"
      ],
      "metadata": {
        "colab": {
          "base_uri": "https://localhost:8080/"
        },
        "id": "EnA4Q9-atJCg",
        "outputId": "399db6ef-f79a-4978-af1c-e4d6d744ce07"
      },
      "id": "EnA4Q9-atJCg",
      "execution_count": null,
      "outputs": [
        {
          "output_type": "execute_result",
          "data": {
            "text/plain": [
              "<title>The Dormouse's story</title>"
            ]
          },
          "metadata": {},
          "execution_count": 16
        }
      ]
    },
    {
      "cell_type": "code",
      "source": [
        "soup.title.name"
      ],
      "metadata": {
        "colab": {
          "base_uri": "https://localhost:8080/",
          "height": 35
        },
        "id": "X4kIq4wGxjrb",
        "outputId": "5deaa887-f3a7-4c10-9711-8be1fe09a2b1"
      },
      "id": "X4kIq4wGxjrb",
      "execution_count": null,
      "outputs": [
        {
          "output_type": "execute_result",
          "data": {
            "text/plain": [
              "'title'"
            ],
            "application/vnd.google.colaboratory.intrinsic+json": {
              "type": "string"
            }
          },
          "metadata": {},
          "execution_count": 17
        }
      ]
    },
    {
      "cell_type": "code",
      "source": [
        "soup.title.string"
      ],
      "metadata": {
        "colab": {
          "base_uri": "https://localhost:8080/",
          "height": 35
        },
        "id": "SO5s5Zbvxt5H",
        "outputId": "4f3010fd-2200-482a-e843-4c20cc82815b"
      },
      "id": "SO5s5Zbvxt5H",
      "execution_count": null,
      "outputs": [
        {
          "output_type": "execute_result",
          "data": {
            "text/plain": [
              "\"The Dormouse's story\""
            ],
            "application/vnd.google.colaboratory.intrinsic+json": {
              "type": "string"
            }
          },
          "metadata": {},
          "execution_count": 18
        }
      ]
    },
    {
      "cell_type": "code",
      "source": [
        "soup.p"
      ],
      "metadata": {
        "colab": {
          "base_uri": "https://localhost:8080/"
        },
        "id": "-XilB2ATx2NN",
        "outputId": "4df57f96-a4ff-4009-d68c-30a6a530f72e"
      },
      "id": "-XilB2ATx2NN",
      "execution_count": null,
      "outputs": [
        {
          "output_type": "execute_result",
          "data": {
            "text/plain": [
              "<p class=\"title\"><b>The Dormouse's story</b></p>"
            ]
          },
          "metadata": {},
          "execution_count": 19
        }
      ]
    },
    {
      "cell_type": "code",
      "source": [
        "soup.p['class']"
      ],
      "metadata": {
        "colab": {
          "base_uri": "https://localhost:8080/"
        },
        "id": "fDA0IloGyAf9",
        "outputId": "955900ad-89e6-494a-fc7a-aacfbdc37700"
      },
      "id": "fDA0IloGyAf9",
      "execution_count": null,
      "outputs": [
        {
          "output_type": "execute_result",
          "data": {
            "text/plain": [
              "['title']"
            ]
          },
          "metadata": {},
          "execution_count": 20
        }
      ]
    },
    {
      "cell_type": "code",
      "source": [
        "soup.a"
      ],
      "metadata": {
        "colab": {
          "base_uri": "https://localhost:8080/"
        },
        "id": "jWrwd2UlyLlP",
        "outputId": "a422c808-caea-4500-b2af-ce07fc6cb0ab"
      },
      "id": "jWrwd2UlyLlP",
      "execution_count": null,
      "outputs": [
        {
          "output_type": "execute_result",
          "data": {
            "text/plain": [
              "<a class=\"sister\" href=\"http://example.com/elsie\" id=\"link1\">Elsie</a>"
            ]
          },
          "metadata": {},
          "execution_count": 21
        }
      ]
    },
    {
      "cell_type": "code",
      "source": [
        "soup.find_all('a')"
      ],
      "metadata": {
        "colab": {
          "base_uri": "https://localhost:8080/"
        },
        "id": "n9cIlRcsyT8b",
        "outputId": "a06d0380-c8f2-4212-e3e1-5e11f3373dc7"
      },
      "id": "n9cIlRcsyT8b",
      "execution_count": null,
      "outputs": [
        {
          "output_type": "execute_result",
          "data": {
            "text/plain": [
              "[<a class=\"sister\" href=\"http://example.com/elsie\" id=\"link1\">Elsie</a>,\n",
              " <a class=\"sister\" href=\"http://example.com/lacie\" id=\"link2\">Lacie</a>,\n",
              " <a class=\"sister\" href=\"http://example.com/tillie\" id=\"link3\">Tillie</a>]"
            ]
          },
          "metadata": {},
          "execution_count": 22
        }
      ]
    },
    {
      "cell_type": "code",
      "source": [
        "soup.find_all('a')[-1]"
      ],
      "metadata": {
        "colab": {
          "base_uri": "https://localhost:8080/"
        },
        "id": "fm3le2Koyi6z",
        "outputId": "a626c7bb-db96-46bf-f7ec-39abf526cc7a"
      },
      "id": "fm3le2Koyi6z",
      "execution_count": null,
      "outputs": [
        {
          "output_type": "execute_result",
          "data": {
            "text/plain": [
              "<a class=\"sister\" href=\"http://example.com/tillie\" id=\"link3\">Tillie</a>"
            ]
          },
          "metadata": {},
          "execution_count": 23
        }
      ]
    },
    {
      "cell_type": "code",
      "source": [
        "soup.find(id='link3')"
      ],
      "metadata": {
        "colab": {
          "base_uri": "https://localhost:8080/"
        },
        "id": "qDVZi0u5ynI3",
        "outputId": "1fcb41fb-ce17-4e1d-b9b1-abef8993a0d4"
      },
      "id": "qDVZi0u5ynI3",
      "execution_count": null,
      "outputs": [
        {
          "output_type": "execute_result",
          "data": {
            "text/plain": [
              "<a class=\"sister\" href=\"http://example.com/tillie\" id=\"link3\">Tillie</a>"
            ]
          },
          "metadata": {},
          "execution_count": 24
        }
      ]
    },
    {
      "cell_type": "code",
      "source": [
        "for link in soup.find_all('a'):\n",
        "  print(link.get('href'))"
      ],
      "metadata": {
        "colab": {
          "base_uri": "https://localhost:8080/"
        },
        "id": "jox0wZtty58f",
        "outputId": "88212dc9-d45f-4e84-da3c-89e7775b09fd"
      },
      "id": "jox0wZtty58f",
      "execution_count": null,
      "outputs": [
        {
          "output_type": "stream",
          "name": "stdout",
          "text": [
            "http://example.com/elsie\n",
            "http://example.com/lacie\n",
            "http://example.com/tillie\n"
          ]
        }
      ]
    },
    {
      "cell_type": "code",
      "source": [
        "soup.get_text()"
      ],
      "metadata": {
        "colab": {
          "base_uri": "https://localhost:8080/",
          "height": 54
        },
        "id": "gVZT9k_GzSyA",
        "outputId": "3b00fce5-1008-40a3-c016-9756c97a1c56"
      },
      "id": "gVZT9k_GzSyA",
      "execution_count": null,
      "outputs": [
        {
          "output_type": "execute_result",
          "data": {
            "text/plain": [
              "\"\\nThe Dormouse's story\\n\\nThe Dormouse's story\\nOnce upon a time there were three little sisters; and their names were\\nElsie,\\nLacie and\\nTillie;\\nand they lived at the bottom of a well.\\n...\\n\""
            ],
            "application/vnd.google.colaboratory.intrinsic+json": {
              "type": "string"
            }
          },
          "metadata": {},
          "execution_count": 26
        }
      ]
    },
    {
      "cell_type": "code",
      "source": [],
      "metadata": {
        "id": "E9mFyZFEzi_P"
      },
      "id": "E9mFyZFEzi_P",
      "execution_count": null,
      "outputs": []
    }
  ],
  "metadata": {
    "kernelspec": {
      "display_name": "Python 3 (ipykernel)",
      "language": "python",
      "name": "python3"
    },
    "language_info": {
      "codemirror_mode": {
        "name": "ipython",
        "version": 3
      },
      "file_extension": ".py",
      "mimetype": "text/x-python",
      "name": "python",
      "nbconvert_exporter": "python",
      "pygments_lexer": "ipython3",
      "version": "3.9.12"
    },
    "colab": {
      "provenance": [],
      "include_colab_link": true
    }
  },
  "nbformat": 4,
  "nbformat_minor": 5
}