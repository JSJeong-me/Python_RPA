{
  "nbformat": 4,
  "nbformat_minor": 0,
  "metadata": {
    "colab": {
      "provenance": [],
      "collapsed_sections": [],
      "include_colab_link": true
    },
    "kernelspec": {
      "name": "python3",
      "display_name": "Python 3"
    },
    "language_info": {
      "name": "python"
    }
  },
  "cells": [
    {
      "cell_type": "markdown",
      "metadata": {
        "id": "view-in-github",
        "colab_type": "text"
      },
      "source": [
        "<a href=\"https://colab.research.google.com/github/JSJeong-me/RPA_Python/blob/main/web/naver-get_top3.ipynb\" target=\"_parent\"><img src=\"https://colab.research.google.com/assets/colab-badge.svg\" alt=\"Open In Colab\"/></a>"
      ]
    },
    {
      "cell_type": "code",
      "execution_count": null,
      "metadata": {
        "id": "umS1U1Izl24a"
      },
      "outputs": [],
      "source": [
        "# 뉴스의 기본 정보 가져오기\n",
        "def get_top3_news_info(sid):\n",
        "    news_list3 = []\n",
        "    # 임시 이미지\n",
        "    default_img = \"https://search.naver.com/search.naver?where=image&sm=tab_jum&query=naver#\"\n",
        "\n",
        "    # 해당 분야 상위 뉴스 목록 주소\n",
        "    sec_url = 'https://news.naver.com/main/list.naver?mode=LSD&mid=sec&sid1=' \\\n",
        "                + sid # TODO\n",
        "    print(\"section url : \", sec_url)\n",
        "\n",
        "    # 해당 분야 상위 뉴스 HTML 가져오기\n",
        "    soup = get_soup_obj(sec_url)\n",
        "\n",
        "    # 해당 분야 상위 뉴스 3개 가져오기 \n",
        "    ## (title=뉴스제목, date=날짜, news_url=기사url, image_url=이미지url)\n",
        "    ## title, dae, news_url, image_url을 dictionary로 만들고, 변수명을 news_info로 함\n",
        "    ul = soup.find(\"ul\", class_=\"type06_headline\")\n",
        "    lis3 = ul.find_all(\"li\", limit=3)\n",
        "    for li in lis3:\n",
        "        # title : 뉴스 제목, news_url : 뉴스 URL, image_url : 이미지 URL\n",
        "        #print(li)\n",
        "        if li.a.img:\n",
        "            news_info = [{\n",
        "                \"date\" : li.find(\"span\", class_=\"date\").string,\n",
        "                \"news_url\" : li.a['href'],\n",
        "                \"image_url\" : li.a.img['src'],\n",
        "                \"title\" : li.a.img['alt']\n",
        "            }]\n",
        "            print(\"date : \", li.find(\"span\", class_=\"date\").string)\n",
        "            print(\"news_url : \", li.a['href'])\n",
        "            print(\"image_url : \", li.a.img['src'])\n",
        "            print(\"title : \", li.a.img['alt'])\n",
        "            print(\"================================\")\n",
        "            news_list3 = news_list3 + news_info\n",
        "\n",
        "    return news_list3"
      ]
    }
  ]
}