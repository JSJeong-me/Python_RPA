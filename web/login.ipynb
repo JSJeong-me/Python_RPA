{
  "nbformat": 4,
  "nbformat_minor": 0,
  "metadata": {
    "colab": {
      "name": "Untitled1.ipynb",
      "provenance": [],
      "authorship_tag": "ABX9TyM0J9au171iGiUOxgwmYuUM",
      "include_colab_link": true
    },
    "kernelspec": {
      "name": "python3",
      "display_name": "Python 3"
    },
    "language_info": {
      "name": "python"
    }
  },
  "cells": [
    {
      "cell_type": "markdown",
      "metadata": {
        "id": "view-in-github",
        "colab_type": "text"
      },
      "source": [
        "<a href=\"https://colab.research.google.com/github/JSJeong-me/Python_RPA/blob/main/web/login.ipynb\" target=\"_parent\"><img src=\"https://colab.research.google.com/assets/colab-badge.svg\" alt=\"Open In Colab\"/></a>"
      ]
    },
    {
      "cell_type": "code",
      "source": [
        "from selenium import webdriver as wd\n",
        "import chronedriver_binary\n",
        "import pandas as pd"
      ],
      "metadata": {
        "id": "rLHRs4dD8S2_"
      },
      "execution_count": null,
      "outputs": []
    },
    {
      "cell_type": "code",
      "execution_count": null,
      "metadata": {
        "id": "gUzpQLDZ5zc-"
      },
      "outputs": [],
      "source": [
        "wb = wd.Chrome()\n",
        "wb.implicitly_wait(10)\n",
        "wb.get(\"https://legacyleisure.legendonlineservices.co.uk/crook_log/account/login\")\n",
        "\n",
        "credentials = dict(line.strip().split('-') for line in open('leisure_centre.properties'))\n",
        "\n",
        "email_address = wb.find_elemnt_by_xpath('//input[@id=\"account-login-email\"]')\n",
        "email_address.clear()\n",
        "email_address.send_keys(credentials[\"usernane\"])\n",
        "\n",
        "password = wd.find_element_by_xpath('//input[@id=''account-login-password\"]')\n",
        "password.clear()\n",
        "password.send_keys(credntials[\"password\"])\n",
        "submitLoginButton = wb.find_element_by_xpath('//span[@id=\"account-login-submit-message\"]/ancestor::button')\n",
        "submitLoginButton.click()"
      ]
    }
  ]
}