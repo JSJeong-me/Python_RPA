{
 "cells": [
  {
   "cell_type": "code",
   "execution_count": 1,
   "metadata": {
    "id": "6S-gGu707z44"
   },
   "outputs": [],
   "source": [
    "import requests\n",
    "from bs4 import BeautifulSoup\n",
    "import pandas as pd\n",
    "from time import sleep\n",
    "import re"
   ]
  },
  {
   "cell_type": "code",
   "execution_count": 2,
   "metadata": {
    "id": "6S-gGu707z44"
   },
   "outputs": [],
   "source": [
    "def cleanText(readData):\n",
    "    text = re.sub('[-=+,#/\\?:^$.@*\\\"※~&%ㆍ!』\\\\‘|\\(\\)\\[\\]\\<\\>`\\'…》]','', readData)\n",
    "    return text"
   ]
  },
  {
   "cell_type": "code",
   "execution_count": 3,
   "metadata": {
    "id": "6S-gGu707z44"
   },
   "outputs": [],
   "source": [
    "headers = {\n",
    "    'User-Agent': 'Mozilla/5.0 (Windows NT 10.0; Win64; x64; rv:94.0) Gecko/20100101 Firefox/94.0',\n",
    "    'Accept-Language': 'en-US, en;q=0.5'\n",
    "}"
   ]
  },
  {
   "cell_type": "code",
   "execution_count": 4,
   "metadata": {
    "id": "6S-gGu707z44"
   },
   "outputs": [],
   "source": [
    "search_query = 'air purifier'.replace(' ', '+') # zep\n",
    "base_url = 'https://www.amazon.com/s?k={0}'.format(search_query)"
   ]
  },
  {
   "cell_type": "code",
   "execution_count": 5,
   "metadata": {
    "id": "6S-gGu707z44"
   },
   "outputs": [
    {
     "name": "stdout",
     "output_type": "stream",
     "text": [
      "Processing https://www.amazon.com/s?k=air+purifier&page=1...\n",
      "Processing https://www.amazon.com/s?k=air+purifier&page=2...\n",
      "Processing https://www.amazon.com/s?k=air+purifier&page=3...\n",
      "Processing https://www.amazon.com/s?k=air+purifier&page=4...\n"
     ]
    }
   ],
   "source": [
    "items = []\n",
    "for i in range(1, 5):\n",
    "    print('Processing {0}...'.format(base_url + '&page={0}'.format(i)))\n",
    "    response = requests.get(base_url + '&page={0}'.format(i), headers=headers)\n",
    "    soup = BeautifulSoup(response.content, 'html.parser')\n",
    "    \n",
    "    results = soup.find_all('div', {'class': 's-result-item', 'data-component-type': 's-search-result'})\n",
    "\n",
    "    for result in results:\n",
    "        product_name = result.h2.text\n",
    "\n",
    "        try:\n",
    "            rating = result.find('i', {'class': 'a-icon'}).text\n",
    "            rating_count = result.find_all('span', {'aria-label': True})[1].text\n",
    "        except AttributeError:\n",
    "            continue\n",
    "\n",
    "        try:\n",
    "            price1 = result.find('span', {'class': 'a-price-whole'}).text\n",
    "            price1 = cleanText(price1)\n",
    "            price2 = result.find('span', {'class': 'a-price-fraction'}).text\n",
    "            price2 = cleanText(price2)\n",
    "            price = float(price1 + price2)\n",
    "            product_url = 'https://amazon.com' + result.h2.a['href']\n",
    "            # print(rating_count, product_url)\n",
    "            items.append([product_name, rating, rating_count, price, product_url])\n",
    "        except AttributeError:\n",
    "            continue\n",
    "    sleep(1.5)"
   ]
  },
  {
   "cell_type": "code",
   "execution_count": 6,
   "metadata": {
    "id": "6S-gGu707z44"
   },
   "outputs": [],
   "source": [
    "df = pd.DataFrame(items, columns=['product', 'rating', 'rating count', 'price', 'product url'])\n",
    "df.to_csv('{0}.csv'.format(search_query), index=False)"
   ]
  },
  {
   "cell_type": "code",
   "execution_count": null,
   "metadata": {},
   "outputs": [],
   "source": []
  }
 ],
 "metadata": {
  "colab": {
   "provenance": []
  },
  "kernelspec": {
   "display_name": "Python 3 (ipykernel)",
   "language": "python",
   "name": "python3"
  },
  "language_info": {
   "codemirror_mode": {
    "name": "ipython",
    "version": 3
   },
   "file_extension": ".py",
   "mimetype": "text/x-python",
   "name": "python",
   "nbconvert_exporter": "python",
   "pygments_lexer": "ipython3",
   "version": "3.9.12"
  }
 },
 "nbformat": 4,
 "nbformat_minor": 4
}
