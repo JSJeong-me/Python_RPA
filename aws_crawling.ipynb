{
  "nbformat": 4,
  "nbformat_minor": 0,
  "metadata": {
    "colab": {
      "provenance": [],
      "authorship_tag": "ABX9TyMyRRzUZ6dVDNeaG40usCRJ",
      "include_colab_link": true
    },
    "kernelspec": {
      "name": "python3",
      "display_name": "Python 3"
    },
    "language_info": {
      "name": "python"
    }
  },
  "cells": [
    {
      "cell_type": "markdown",
      "metadata": {
        "id": "view-in-github",
        "colab_type": "text"
      },
      "source": [
        "<a href=\"https://colab.research.google.com/github/JSJeong-me/Python_RPA/blob/main/aws_crawling.ipynb\" target=\"_parent\"><img src=\"https://colab.research.google.com/assets/colab-badge.svg\" alt=\"Open In Colab\"/></a>"
      ]
    },
    {
      "cell_type": "code",
      "execution_count": null,
      "metadata": {
        "id": "6S-gGu707z44"
      },
      "outputs": [],
      "source": [
        "import requests\n",
        "from bs4 import BeautifulSoup\n",
        "import pandas as pd\n",
        "from time import sleep\n",
        "\n",
        "headers = {\n",
        "    'User-Agent': 'Mozilla/5.0 (Windows NT 10.0; Win64; x64; rv:94.0) Gecko/20100101 Firefox/94.0',\n",
        "    'Accept-Language': 'en-US, en;q=0.5'\n",
        "}\n",
        "\n",
        "search_query = 'zep'.replace(' ', '+')\n",
        "base_url = 'https://www.amazon.com/s?k={0}'.format(search_query)\n",
        "\n",
        "items = []\n",
        "for i in range(1, 5):\n",
        "    print('Processing {0}...'.format(base_url + '&page={0}'.format(i)))\n",
        "    response = requests.get(base_url + '&page={0}'.format(i), headers=headers)\n",
        "    soup = BeautifulSoup(response.content, 'html.parser')\n",
        "    \n",
        "    results = soup.find_all('div', {'class': 's-result-item', 'data-component-type': 's-search-result'})\n",
        "\n",
        "    for result in results:\n",
        "        product_name = result.h2.text\n",
        "\n",
        "        try:\n",
        "            rating = result.find('i', {'class': 'a-icon'}).text\n",
        "            rating_count = result.find_all('span', {'aria-label': True})[1].text\n",
        "        except AttributeError:\n",
        "            continue\n",
        "\n",
        "        try:\n",
        "            price1 = result.find('span', {'class': 'a-price-whole'}).text\n",
        "            price2 = result.find('span', {'class': 'a-price-fraction'}).text\n",
        "            price = float(price1 + price2)\n",
        "            product_url = 'https://amazon.com' + result.h2.a['href']\n",
        "            # print(rating_count, product_url)\n",
        "            items.append([product_name, rating, rating_count, price, product_url])\n",
        "        except AttributeError:\n",
        "            continue\n",
        "    sleep(1.5)\n",
        "    \n",
        "df = pd.DataFrame(items, columns=['product', 'rating', 'rating count', 'price', 'product url'])\n",
        "df.to_csv('{0}.csv'.format(search_query), index=False)"
      ]
    }
  ]
}