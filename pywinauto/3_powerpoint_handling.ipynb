{
  "cells": [
    {
      "cell_type": "markdown",
      "metadata": {
        "id": "view-in-github",
        "colab_type": "text"
      },
      "source": [
        "<a href=\"https://colab.research.google.com/github/JSJeong-me/Python_RPA/blob/main/pywinauto/3_powerpoint_handling.ipynb\" target=\"_parent\"><img src=\"https://colab.research.google.com/assets/colab-badge.svg\" alt=\"Open In Colab\"/></a>"
      ]
    },
    {
      "cell_type": "markdown",
      "metadata": {
        "id": "wGl4fu-HTJEc"
      },
      "source": [
        "# 4장. 보고서 자동화 프로젝트"
      ]
    },
    {
      "cell_type": "markdown",
      "metadata": {
        "id": "dN05IN7sTJEf"
      },
      "source": [
        "## 4.2 사전 준비하기\n",
        "- 참고문서 : https://python-pptx.readthedocs.io/en/latest/user/quickstart.html"
      ]
    },
    {
      "cell_type": "markdown",
      "metadata": {
        "id": "NbqaPHWvTJEg"
      },
      "source": [
        "- !pip install python-pptx"
      ]
    },
    {
      "cell_type": "code",
      "execution_count": 1,
      "metadata": {
        "colab": {
          "base_uri": "https://localhost:8080/"
        },
        "id": "CgfnGLA7t3Gp",
        "outputId": "f8e9b7ae-4d0c-4fa0-e68a-2f1235dd808f"
      },
      "outputs": [
        {
          "output_type": "stream",
          "name": "stdout",
          "text": [
            "Collecting python-pptx\n",
            "  Downloading python-pptx-0.6.21.tar.gz (10.1 MB)\n",
            "\u001b[2K     \u001b[90m━━━━━━━━━━━━━━━━━━━━━━━━━━━━━━━━━━━━━━━━\u001b[0m \u001b[32m10.1/10.1 MB\u001b[0m \u001b[31m18.8 MB/s\u001b[0m eta \u001b[36m0:00:00\u001b[0m\n",
            "\u001b[?25h  Preparing metadata (setup.py) ... \u001b[?25l\u001b[?25hdone\n",
            "Requirement already satisfied: lxml>=3.1.0 in /usr/local/lib/python3.10/dist-packages (from python-pptx) (4.9.3)\n",
            "Requirement already satisfied: Pillow>=3.3.2 in /usr/local/lib/python3.10/dist-packages (from python-pptx) (9.4.0)\n",
            "Collecting XlsxWriter>=0.5.7 (from python-pptx)\n",
            "  Downloading XlsxWriter-3.1.2-py3-none-any.whl (153 kB)\n",
            "\u001b[2K     \u001b[90m━━━━━━━━━━━━━━━━━━━━━━━━━━━━━━━━━━━━━━━\u001b[0m \u001b[32m153.0/153.0 kB\u001b[0m \u001b[31m8.2 MB/s\u001b[0m eta \u001b[36m0:00:00\u001b[0m\n",
            "\u001b[?25hBuilding wheels for collected packages: python-pptx\n",
            "  Building wheel for python-pptx (setup.py) ... \u001b[?25l\u001b[?25hdone\n",
            "  Created wheel for python-pptx: filename=python_pptx-0.6.21-py3-none-any.whl size=470934 sha256=856f55682f365b768ea9ac6b74624433b5cceef19c2edcbd4e7be8938a3180d1\n",
            "  Stored in directory: /root/.cache/pip/wheels/ea/dd/74/01b3ec7256a0800b99384e9a0f7620e358afc3a51a59bf9b49\n",
            "Successfully built python-pptx\n",
            "Installing collected packages: XlsxWriter, python-pptx\n",
            "Successfully installed XlsxWriter-3.1.2 python-pptx-0.6.21\n"
          ]
        }
      ],
      "source": [
        "!pip install python-pptx"
      ]
    },
    {
      "cell_type": "markdown",
      "metadata": {
        "id": "mo0_9n8t0FM3"
      },
      "source": [
        "## 4.3 사전지식 쌓기"
      ]
    },
    {
      "cell_type": "markdown",
      "metadata": {
        "id": "_q7FOgA30FM5"
      },
      "source": [
        "### 4.3.1 모든 레이아웃 적용해 보기"
      ]
    },
    {
      "cell_type": "code",
      "execution_count": 2,
      "metadata": {
        "id": "4-Xe1I4t0FM6"
      },
      "outputs": [],
      "source": [
        "from pptx import Presentation # 라이브러리\n",
        "from pptx.util import Inches # 사진, 표등을 그리기 위해"
      ]
    },
    {
      "cell_type": "code",
      "execution_count": 3,
      "metadata": {
        "id": "5PKEaFFOU4Rz"
      },
      "outputs": [],
      "source": [
        "prs = Presentation() # 파워포인트 객체 선언\n",
        "\n",
        "for i in range(0, 11):\n",
        "    title_slide_layout = prs.slide_layouts[i] # 슬라이드 종류 선택\n",
        "    slide = prs.slides.add_slide(title_slide_layout) # 슬라이드 추가\n",
        "\n",
        "prs.save('add-all-slides.pptx')"
      ]
    },
    {
      "cell_type": "markdown",
      "metadata": {
        "id": "9ne41iFn0FM8"
      },
      "source": [
        "### 4.3.2 레이아웃별 placeholder 속성 확인하기"
      ]
    },
    {
      "cell_type": "code",
      "execution_count": 4,
      "metadata": {
        "colab": {
          "base_uri": "https://localhost:8080/"
        },
        "id": "Rv-H0GCc0FM9",
        "outputId": "16db7302-df0e-4682-8cf6-bafed3bccf2f"
      },
      "outputs": [
        {
          "output_type": "stream",
          "name": "stdout",
          "text": [
            "--------[0] ------ \n",
            "0 Title 1\n",
            "1 Subtitle 2\n",
            "--------[1] ------ \n",
            "0 Title 1\n",
            "1 Content Placeholder 2\n",
            "--------[2] ------ \n",
            "0 Title 1\n",
            "1 Text Placeholder 2\n",
            "--------[3] ------ \n",
            "0 Title 1\n",
            "1 Content Placeholder 2\n",
            "2 Content Placeholder 3\n",
            "--------[4] ------ \n",
            "0 Title 1\n",
            "1 Text Placeholder 2\n",
            "2 Content Placeholder 3\n",
            "3 Text Placeholder 4\n",
            "4 Content Placeholder 5\n",
            "--------[5] ------ \n",
            "0 Title 1\n",
            "--------[6] ------ \n",
            "--------[7] ------ \n",
            "0 Title 1\n",
            "1 Content Placeholder 2\n",
            "2 Text Placeholder 3\n",
            "--------[8] ------ \n",
            "0 Title 1\n",
            "1 Picture Placeholder 2\n",
            "2 Text Placeholder 3\n",
            "--------[9] ------ \n",
            "0 Title 1\n",
            "1 Vertical Text Placeholder 2\n",
            "--------[10] ------ \n",
            "0 Vertical Title 1\n",
            "1 Vertical Text Placeholder 2\n"
          ]
        }
      ],
      "source": [
        "from pptx import Presentation # 라이브러리\n",
        "from pptx.util import Inches # 사진, 표 등을 그리기 위해\n",
        "\n",
        "prs = Presentation()\n",
        "for i in range(0, 11):\n",
        "    print(\"--------[%d] ------ \"%(i))\n",
        "    slide = prs.slides.add_slide(prs.slide_layouts[i])\n",
        "    for shape in slide.placeholders:\n",
        "        print('%d %s' % (shape.placeholder_format.idx, shape.name))"
      ]
    },
    {
      "cell_type": "markdown",
      "metadata": {
        "id": "W6EPl6Dn0FM_"
      },
      "source": [
        "## 4.4. 구현하기"
      ]
    },
    {
      "cell_type": "markdown",
      "metadata": {
        "id": "9om0Ayrh0FM_"
      },
      "source": [
        "## Step1)  객체 선언"
      ]
    },
    {
      "cell_type": "code",
      "execution_count": 5,
      "metadata": {
        "id": "wXVZfkS_0FNA"
      },
      "outputs": [],
      "source": [
        "from pptx import Presentation # 라이브러리\n",
        "from pptx.util import Inches # 사진, 표 등을 그리기 위해\n",
        "\n",
        "prs = Presentation() # 파워포인트 객체 선언"
      ]
    },
    {
      "cell_type": "markdown",
      "metadata": {
        "id": "Ob9Al40g0FNC"
      },
      "source": [
        "## Step2) 제목 슬라이드"
      ]
    },
    {
      "cell_type": "code",
      "execution_count": 6,
      "metadata": {
        "id": "8qwxSdUT0FNC"
      },
      "outputs": [],
      "source": [
        "title_slide_layout = prs.slide_layouts[0] # 0 : 제목 슬라이드에 해당\n",
        "slide = prs.slides.add_slide(title_slide_layout) # 슬라이드 추가\n",
        "\n",
        "# 제목 - 제목에 값넣기\n",
        "title = slide.placeholders[0] # 제목\n",
        "title.text = \"Hello, World!\" # 제목에 값 넣기\n",
        "\n",
        "# 부제목\n",
        "subtitle = slide.placeholders[1] # 제목 상자는 placeholders[0], 부제목 상자는 [1]\n",
        "subtitle.text = \"python-pptx was here!\"\n",
        "\n",
        "# 저장\n",
        "prs.save('test.pptx')"
      ]
    },
    {
      "cell_type": "markdown",
      "metadata": {
        "id": "t8f8DuuW0FNG"
      },
      "source": [
        "## Step3) 제목과 내용 슬라이드"
      ]
    },
    {
      "cell_type": "code",
      "execution_count": 7,
      "metadata": {
        "id": "5uo4i2TR0FNG"
      },
      "outputs": [],
      "source": [
        "bullet_slide_layout = prs.slide_layouts[1] # 1 : 제목과 내용 슬라이드\n",
        "slide = prs.slides.add_slide(bullet_slide_layout) # 기존에 있던 슬라이드에 추가\n",
        "\n",
        "# 제목\n",
        "title_shape = slide.placeholders[0]\n",
        "title_shape.text = '2번째 Layout'\n",
        "\n",
        "# 내용\n",
        "body_shape = slide.placeholders[1]\n",
        "tf = body_shape.text_frame\n",
        "tf.text = 'Find the bullet slide layout'\n",
        "\n",
        "# 저장\n",
        "prs.save('test01.pptx')"
      ]
    },
    {
      "cell_type": "code",
      "execution_count": 8,
      "metadata": {
        "id": "jhbjJqSOU4R4"
      },
      "outputs": [],
      "source": [
        "# 단락 추가\n",
        "p = tf.add_paragraph()\n",
        "p.text = 'Use _TextFrame.text for first bullet'\n",
        "p.level = 1 # 1 : 들여쓰기 레벨\n",
        "\n",
        "# 단락 추가\n",
        "p = tf.add_paragraph()\n",
        "p.text = 'Use _TextFrame.add_paragraph() for subsequent bullets'\n",
        "p.level = 2 # 2 : 들여쓰기 레벨\n",
        "\n",
        "prs.save('test02.pptx')"
      ]
    },
    {
      "cell_type": "markdown",
      "metadata": {
        "id": "MwiASCnC0FNI"
      },
      "source": [
        "## Step4) 사진 슬라이드"
      ]
    },
    {
      "cell_type": "code",
      "execution_count": 10,
      "metadata": {
        "id": "wTNZNgyP0FNI"
      },
      "outputs": [],
      "source": [
        "img_path = 'giraffe.jpg'\n",
        "\n",
        "blank_slide_layout = prs.slide_layouts[6] # 6 : 제목/내용이 없는 '빈' 슬라이드\n",
        "slide = prs.slides.add_slide(blank_slide_layout)\n",
        "\n",
        "left = top = Inches(1)\n",
        "width = height = Inches(1)\n",
        "# width, hegith가 없을 경우 원본 사이즈로\n",
        "pic = slide.shapes.add_picture(img_path, left, top, width=width,height=height)\n",
        "\n",
        "left = Inches(3)\n",
        "width = Inches(5.5)\n",
        "height = Inches(4)\n",
        "pic = slide.shapes.add_picture(img_path, left, top, width=width,height=height)\n",
        "\n",
        "prs.save('test03.pptx')"
      ]
    },
    {
      "cell_type": "markdown",
      "metadata": {
        "id": "0rcHIcLZ0FNL"
      },
      "source": [
        "## Step5) 표 슬라이드"
      ]
    },
    {
      "cell_type": "code",
      "execution_count": 11,
      "metadata": {
        "id": "t5WV1Jva0FNL"
      },
      "outputs": [],
      "source": [
        "title_only_slide_layout = prs.slide_layouts[5]\n",
        "slide = prs.slides.add_slide(title_only_slide_layout)\n",
        "shapes = slide.shapes\n",
        "\n",
        "title_shape = slide.placeholders[0]\n",
        "title_shape.text = 'Adding a Table'\n",
        "\n",
        "rows = cols = 2\n",
        "left = top = Inches(2.0)\n",
        "width = Inches(6.0)\n",
        "height = Inches(0.8)\n",
        "\n",
        "table = shapes.add_table(rows, cols, left, top, width, height).table\n",
        "\n",
        "# set column widths\n",
        "table.columns[0].width = Inches(2.0)\n",
        "table.columns[1].width = Inches(4.0)\n",
        "\n",
        "# write column headings\n",
        "table.cell(0, 0).text = 'Foo'\n",
        "table.cell(0, 1).text = 'Bar'\n",
        "\n",
        "# write body cells\n",
        "table.cell(1, 0).text = 'Baz'\n",
        "table.cell(1, 1).text = 'Qux'\n",
        "\n",
        "prs.save('test.pptx')"
      ]
    },
    {
      "cell_type": "code",
      "source": [
        "from pptx import Presentation\n",
        "\n",
        "prs = Presentation('./test03.pptx')\n",
        "\n",
        "# text_runs will be populated with a list of strings,\n",
        "# one for each text run in presentation\n",
        "text_runs = []\n",
        "\n",
        "for slide in prs.slides:\n",
        "    for shape in slide.shapes:\n",
        "        if not shape.has_text_frame:\n",
        "            continue\n",
        "        for paragraph in shape.text_frame.paragraphs:\n",
        "            for run in paragraph.runs:\n",
        "                text_runs.append(run.text)\n",
        "\n",
        "text_runs"
      ],
      "metadata": {
        "id": "zsOGKI8VWFdw"
      },
      "execution_count": 18,
      "outputs": []
    },
    {
      "cell_type": "code",
      "source": [],
      "metadata": {
        "id": "PnWRdGSZWVr7"
      },
      "execution_count": null,
      "outputs": []
    }
  ],
  "metadata": {
    "colab": {
      "provenance": [],
      "include_colab_link": true
    },
    "kernelspec": {
      "display_name": "Python 3 (ipykernel)",
      "language": "python",
      "name": "python3"
    },
    "language_info": {
      "codemirror_mode": {
        "name": "ipython",
        "version": 3
      },
      "file_extension": ".py",
      "mimetype": "text/x-python",
      "name": "python",
      "nbconvert_exporter": "python",
      "pygments_lexer": "ipython3",
      "version": "3.10.9"
    }
  },
  "nbformat": 4,
  "nbformat_minor": 0
}