{
  "nbformat": 4,
  "nbformat_minor": 0,
  "metadata": {
    "colab": {
      "name": "Untitled10.ipynb",
      "provenance": [],
      "authorship_tag": "ABX9TyPS131kF9Ixnp7+ONkNnBWO",
      "include_colab_link": true
    },
    "kernelspec": {
      "name": "python3",
      "display_name": "Python 3"
    },
    "language_info": {
      "name": "python"
    }
  },
  "cells": [
    {
      "cell_type": "markdown",
      "metadata": {
        "id": "view-in-github",
        "colab_type": "text"
      },
      "source": [
        "<a href=\"https://colab.research.google.com/github/JSJeong-me/Python_RPA/blob/main/excel/4-example2.ipynb\" target=\"_parent\"><img src=\"https://colab.research.google.com/assets/colab-badge.svg\" alt=\"Open In Colab\"/></a>"
      ]
    },
    {
      "cell_type": "markdown",
      "source": [
        "### 웹스크래핑 예제(2) - 네이버금융 실시간 주가 크롤링하기\n",
        "\n",
        "네이버금융 사이트에서 실시간으로 종목별 주가를 크롤링하는 예제를 확인해볼께요.\n",
        "\n",
        "간단한 예제고, 여러분도 충분히 하실 수 있습니다."
      ],
      "metadata": {
        "id": "K4id3NVHzTF3"
      }
    },
    {
      "cell_type": "code",
      "execution_count": 1,
      "metadata": {
        "colab": {
          "base_uri": "https://localhost:8080/"
        },
        "id": "BJnp9KxRzSXX",
        "outputId": "98aca298-f670-4bbe-dead-fb9f4afb7c08"
      },
      "outputs": [
        {
          "output_type": "stream",
          "name": "stdout",
          "text": [
            "['39,900', '546,000']\n"
          ]
        }
      ],
      "source": [
        "import requests\n",
        "from bs4 import BeautifulSoup\n",
        "\n",
        "codes = ['096530', '010130'] # 종목코드 리스트\n",
        "prices = [] # 가격정보가 담길 리스트\n",
        "\n",
        "for code in codes:\n",
        "    url = 'https://finance.naver.com/item/main.nhn?code=' + code\n",
        "\n",
        "    response = requests.get(url)\n",
        "    response.raise_for_status()\n",
        "    html = response.text\n",
        "    soup = BeautifulSoup(html, 'html.parser')\n",
        "\n",
        "    today = soup.select_one('#chart_area > div.rate_info > div')\n",
        "    price = today.select_one('.blind')\n",
        "    prices.append(price.get_text())\n",
        "\n",
        "print(prices)"
      ]
    }
  ]
}