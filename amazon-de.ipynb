{
  "nbformat": 4,
  "nbformat_minor": 0,
  "metadata": {
    "colab": {
      "provenance": [],
      "authorship_tag": "ABX9TyPFh326mJwrBX867/LkGonv",
      "include_colab_link": true
    },
    "kernelspec": {
      "name": "python3",
      "display_name": "Python 3"
    },
    "language_info": {
      "name": "python"
    }
  },
  "cells": [
    {
      "cell_type": "markdown",
      "metadata": {
        "id": "view-in-github",
        "colab_type": "text"
      },
      "source": [
        "<a href=\"https://colab.research.google.com/github/JSJeong-me/Python_RPA/blob/main/amazon-de.ipynb\" target=\"_parent\"><img src=\"https://colab.research.google.com/assets/colab-badge.svg\" alt=\"Open In Colab\"/></a>"
      ]
    },
    {
      "cell_type": "code",
      "execution_count": 1,
      "metadata": {
        "id": "9wBY77F19FhO"
      },
      "outputs": [],
      "source": [
        "import requests\n",
        "from bs4 import BeautifulSoup\n",
        "import pandas as pd\n",
        "from time import sleep\n",
        "import re"
      ]
    },
    {
      "cell_type": "code",
      "source": [
        "def cleanText(readData):\n",
        "    text = re.sub('[-=+,#/\\?:^$.@*\\\"※~&%ㆍ!』\\\\‘|\\(\\)\\[\\]\\<\\>`\\'…》]','', readData)\n",
        "    return text"
      ],
      "metadata": {
        "id": "keqt91mk9Vy9"
      },
      "execution_count": 2,
      "outputs": []
    },
    {
      "cell_type": "code",
      "source": [
        "headers = {\n",
        "    'User-Agent': 'Mozilla/5.0 (Windows NT 10.0; Win64; x64; rv:94.0) Gecko/20100101 Firefox/94.0',\n",
        "    'Accept-Language': 'en-US, en;q=0.5'\n",
        "}"
      ],
      "metadata": {
        "id": "F8ORsCrY9VwE"
      },
      "execution_count": 3,
      "outputs": []
    },
    {
      "cell_type": "code",
      "source": [
        "search_query = 'luftreiniger'.replace(' ', '+') # zep\n",
        "base_url = 'https://www.amazon.de/s?k={0}'.format(search_query)"
      ],
      "metadata": {
        "id": "GyRoOz3z9VtS"
      },
      "execution_count": 4,
      "outputs": []
    },
    {
      "cell_type": "code",
      "source": [
        "items = []\n",
        "for i in range(1, 100):\n",
        "    print('Processing {0}...'.format(base_url + '&page={0}'.format(i)))\n",
        "    response = requests.get(base_url + '&page={0}'.format(i), headers=headers)\n",
        "    soup = BeautifulSoup(response.content, 'html.parser')\n",
        "    \n",
        "    results = soup.find_all('div', {'class': 's-result-item', 'data-component-type': 's-search-result'})\n",
        "\n",
        "    for result in results:\n",
        "        product_name = result.h2.text\n",
        "\n",
        "        try:\n",
        "            rating = result.find('i', {'class': 'a-icon'}).text\n",
        "            rating_count = result.find_all('span', {'aria-label': True})[1].text\n",
        "        except AttributeError:\n",
        "            continue\n",
        "\n",
        "        try:\n",
        "            price1 = result.find('span', {'class': 'a-price-whole'}).text\n",
        "            price1 = cleanText(price1)\n",
        "            # price2 = result.find('span', {'class': 'a-price-fraction'}).text\n",
        "            # price2 = cleanText(price2)\n",
        "            # price = float(price1 + price2)\n",
        "            price = float(price1)\n",
        "            product_url = 'https://amazon.de' + result.h2.a['href']\n",
        "            # print(rating_count, product_url)\n",
        "            items.append([product_name, rating, rating_count, price, product_url])\n",
        "        except AttributeError:\n",
        "            continue\n",
        "    sleep(1.5)"
      ],
      "metadata": {
        "colab": {
          "base_uri": "https://localhost:8080/"
        },
        "id": "-mluSzm69Vqw",
        "outputId": "1a72601e-2476-4502-b4fa-73ac626e22a2"
      },
      "execution_count": 5,
      "outputs": [
        {
          "output_type": "stream",
          "name": "stdout",
          "text": [
            "Processing https://www.amazon.de/s?k=luftreiniger&page=1...\n",
            "Processing https://www.amazon.de/s?k=luftreiniger&page=2...\n",
            "Processing https://www.amazon.de/s?k=luftreiniger&page=3...\n",
            "Processing https://www.amazon.de/s?k=luftreiniger&page=4...\n",
            "Processing https://www.amazon.de/s?k=luftreiniger&page=5...\n",
            "Processing https://www.amazon.de/s?k=luftreiniger&page=6...\n",
            "Processing https://www.amazon.de/s?k=luftreiniger&page=7...\n",
            "Processing https://www.amazon.de/s?k=luftreiniger&page=8...\n",
            "Processing https://www.amazon.de/s?k=luftreiniger&page=9...\n",
            "Processing https://www.amazon.de/s?k=luftreiniger&page=10...\n",
            "Processing https://www.amazon.de/s?k=luftreiniger&page=11...\n",
            "Processing https://www.amazon.de/s?k=luftreiniger&page=12...\n",
            "Processing https://www.amazon.de/s?k=luftreiniger&page=13...\n",
            "Processing https://www.amazon.de/s?k=luftreiniger&page=14...\n",
            "Processing https://www.amazon.de/s?k=luftreiniger&page=15...\n",
            "Processing https://www.amazon.de/s?k=luftreiniger&page=16...\n",
            "Processing https://www.amazon.de/s?k=luftreiniger&page=17...\n",
            "Processing https://www.amazon.de/s?k=luftreiniger&page=18...\n",
            "Processing https://www.amazon.de/s?k=luftreiniger&page=19...\n",
            "Processing https://www.amazon.de/s?k=luftreiniger&page=20...\n",
            "Processing https://www.amazon.de/s?k=luftreiniger&page=21...\n",
            "Processing https://www.amazon.de/s?k=luftreiniger&page=22...\n",
            "Processing https://www.amazon.de/s?k=luftreiniger&page=23...\n",
            "Processing https://www.amazon.de/s?k=luftreiniger&page=24...\n",
            "Processing https://www.amazon.de/s?k=luftreiniger&page=25...\n",
            "Processing https://www.amazon.de/s?k=luftreiniger&page=26...\n",
            "Processing https://www.amazon.de/s?k=luftreiniger&page=27...\n",
            "Processing https://www.amazon.de/s?k=luftreiniger&page=28...\n",
            "Processing https://www.amazon.de/s?k=luftreiniger&page=29...\n",
            "Processing https://www.amazon.de/s?k=luftreiniger&page=30...\n",
            "Processing https://www.amazon.de/s?k=luftreiniger&page=31...\n",
            "Processing https://www.amazon.de/s?k=luftreiniger&page=32...\n",
            "Processing https://www.amazon.de/s?k=luftreiniger&page=33...\n",
            "Processing https://www.amazon.de/s?k=luftreiniger&page=34...\n",
            "Processing https://www.amazon.de/s?k=luftreiniger&page=35...\n",
            "Processing https://www.amazon.de/s?k=luftreiniger&page=36...\n",
            "Processing https://www.amazon.de/s?k=luftreiniger&page=37...\n",
            "Processing https://www.amazon.de/s?k=luftreiniger&page=38...\n",
            "Processing https://www.amazon.de/s?k=luftreiniger&page=39...\n",
            "Processing https://www.amazon.de/s?k=luftreiniger&page=40...\n",
            "Processing https://www.amazon.de/s?k=luftreiniger&page=41...\n",
            "Processing https://www.amazon.de/s?k=luftreiniger&page=42...\n",
            "Processing https://www.amazon.de/s?k=luftreiniger&page=43...\n",
            "Processing https://www.amazon.de/s?k=luftreiniger&page=44...\n",
            "Processing https://www.amazon.de/s?k=luftreiniger&page=45...\n",
            "Processing https://www.amazon.de/s?k=luftreiniger&page=46...\n",
            "Processing https://www.amazon.de/s?k=luftreiniger&page=47...\n",
            "Processing https://www.amazon.de/s?k=luftreiniger&page=48...\n",
            "Processing https://www.amazon.de/s?k=luftreiniger&page=49...\n",
            "Processing https://www.amazon.de/s?k=luftreiniger&page=50...\n",
            "Processing https://www.amazon.de/s?k=luftreiniger&page=51...\n",
            "Processing https://www.amazon.de/s?k=luftreiniger&page=52...\n",
            "Processing https://www.amazon.de/s?k=luftreiniger&page=53...\n",
            "Processing https://www.amazon.de/s?k=luftreiniger&page=54...\n",
            "Processing https://www.amazon.de/s?k=luftreiniger&page=55...\n",
            "Processing https://www.amazon.de/s?k=luftreiniger&page=56...\n",
            "Processing https://www.amazon.de/s?k=luftreiniger&page=57...\n",
            "Processing https://www.amazon.de/s?k=luftreiniger&page=58...\n",
            "Processing https://www.amazon.de/s?k=luftreiniger&page=59...\n",
            "Processing https://www.amazon.de/s?k=luftreiniger&page=60...\n",
            "Processing https://www.amazon.de/s?k=luftreiniger&page=61...\n",
            "Processing https://www.amazon.de/s?k=luftreiniger&page=62...\n",
            "Processing https://www.amazon.de/s?k=luftreiniger&page=63...\n",
            "Processing https://www.amazon.de/s?k=luftreiniger&page=64...\n",
            "Processing https://www.amazon.de/s?k=luftreiniger&page=65...\n",
            "Processing https://www.amazon.de/s?k=luftreiniger&page=66...\n",
            "Processing https://www.amazon.de/s?k=luftreiniger&page=67...\n",
            "Processing https://www.amazon.de/s?k=luftreiniger&page=68...\n",
            "Processing https://www.amazon.de/s?k=luftreiniger&page=69...\n",
            "Processing https://www.amazon.de/s?k=luftreiniger&page=70...\n",
            "Processing https://www.amazon.de/s?k=luftreiniger&page=71...\n",
            "Processing https://www.amazon.de/s?k=luftreiniger&page=72...\n",
            "Processing https://www.amazon.de/s?k=luftreiniger&page=73...\n",
            "Processing https://www.amazon.de/s?k=luftreiniger&page=74...\n",
            "Processing https://www.amazon.de/s?k=luftreiniger&page=75...\n",
            "Processing https://www.amazon.de/s?k=luftreiniger&page=76...\n",
            "Processing https://www.amazon.de/s?k=luftreiniger&page=77...\n",
            "Processing https://www.amazon.de/s?k=luftreiniger&page=78...\n",
            "Processing https://www.amazon.de/s?k=luftreiniger&page=79...\n",
            "Processing https://www.amazon.de/s?k=luftreiniger&page=80...\n",
            "Processing https://www.amazon.de/s?k=luftreiniger&page=81...\n",
            "Processing https://www.amazon.de/s?k=luftreiniger&page=82...\n",
            "Processing https://www.amazon.de/s?k=luftreiniger&page=83...\n",
            "Processing https://www.amazon.de/s?k=luftreiniger&page=84...\n",
            "Processing https://www.amazon.de/s?k=luftreiniger&page=85...\n",
            "Processing https://www.amazon.de/s?k=luftreiniger&page=86...\n",
            "Processing https://www.amazon.de/s?k=luftreiniger&page=87...\n",
            "Processing https://www.amazon.de/s?k=luftreiniger&page=88...\n",
            "Processing https://www.amazon.de/s?k=luftreiniger&page=89...\n",
            "Processing https://www.amazon.de/s?k=luftreiniger&page=90...\n",
            "Processing https://www.amazon.de/s?k=luftreiniger&page=91...\n",
            "Processing https://www.amazon.de/s?k=luftreiniger&page=92...\n",
            "Processing https://www.amazon.de/s?k=luftreiniger&page=93...\n",
            "Processing https://www.amazon.de/s?k=luftreiniger&page=94...\n",
            "Processing https://www.amazon.de/s?k=luftreiniger&page=95...\n",
            "Processing https://www.amazon.de/s?k=luftreiniger&page=96...\n",
            "Processing https://www.amazon.de/s?k=luftreiniger&page=97...\n",
            "Processing https://www.amazon.de/s?k=luftreiniger&page=98...\n",
            "Processing https://www.amazon.de/s?k=luftreiniger&page=99...\n"
          ]
        }
      ]
    },
    {
      "cell_type": "code",
      "source": [
        "df = pd.DataFrame(items, columns=['product', 'rating', 'rating count', 'price', 'product url'])\n",
        "df['price'] = df['price']/100"
      ],
      "metadata": {
        "id": "e8lAgf9u9VoH"
      },
      "execution_count": 6,
      "outputs": []
    },
    {
      "cell_type": "code",
      "source": [
        "df.to_csv('amazon-de-06-{0}.csv'.format(search_query), index=False)"
      ],
      "metadata": {
        "id": "WcBCAjNc9iQc"
      },
      "execution_count": 7,
      "outputs": []
    },
    {
      "cell_type": "code",
      "source": [
        "df.tail()"
      ],
      "metadata": {
        "colab": {
          "base_uri": "https://localhost:8080/",
          "height": 424
        },
        "id": "k43DpWEz9iNT",
        "outputId": "357e1342-c024-487a-bcba-a854608d447b"
      },
      "execution_count": 8,
      "outputs": [
        {
          "output_type": "execute_result",
          "data": {
            "text/plain": [
              "                                              product              rating  \\\n",
              "52  AINUORENYI Replacement HEPA Replacement Filter...  3.0 out of 5 stars   \n",
              "53  LiRiQi Air Purifier HEPA Filter, Fine Dust and...  2.4 out of 5 stars   \n",
              "54  AIRROBO AR400 Original Replacement Filter, H13...  4.0 out of 5 stars   \n",
              "55  NERIOX CLEAN-AIR Mobile Antiviral Air Purifier...  5.0 out of 5 stars   \n",
              "56  TOPPIN Air Purifier with H13 HEPA Filter TPAP0...  4.6 out of 5 stars   \n",
              "\n",
              "   rating count   price                                        product url  \n",
              "52          1     38.99  https://amazon.de/-/en/AINUORENYI-Replacement-...  \n",
              "53          2     19.99  https://amazon.de/-/en/Purifier-Allergens-Ligh...  \n",
              "54          1     25.99  https://amazon.de/-/en/Replacement-Efficient-A...  \n",
              "55          3    712.80  https://amazon.de/-/en/NERIOX-CLEAN-AIR-Antivi...  \n",
              "56      1,301     49.00  https://amazon.de/-/en/TOPPIN-Purifier-TPAP001...  "
            ],
            "text/html": [
              "\n",
              "  <div id=\"df-e62c365a-719e-4b0a-8a75-a2d9acdc7bcf\">\n",
              "    <div class=\"colab-df-container\">\n",
              "      <div>\n",
              "<style scoped>\n",
              "    .dataframe tbody tr th:only-of-type {\n",
              "        vertical-align: middle;\n",
              "    }\n",
              "\n",
              "    .dataframe tbody tr th {\n",
              "        vertical-align: top;\n",
              "    }\n",
              "\n",
              "    .dataframe thead th {\n",
              "        text-align: right;\n",
              "    }\n",
              "</style>\n",
              "<table border=\"1\" class=\"dataframe\">\n",
              "  <thead>\n",
              "    <tr style=\"text-align: right;\">\n",
              "      <th></th>\n",
              "      <th>product</th>\n",
              "      <th>rating</th>\n",
              "      <th>rating count</th>\n",
              "      <th>price</th>\n",
              "      <th>product url</th>\n",
              "    </tr>\n",
              "  </thead>\n",
              "  <tbody>\n",
              "    <tr>\n",
              "      <th>52</th>\n",
              "      <td>AINUORENYI Replacement HEPA Replacement Filter...</td>\n",
              "      <td>3.0 out of 5 stars</td>\n",
              "      <td>1</td>\n",
              "      <td>38.99</td>\n",
              "      <td>https://amazon.de/-/en/AINUORENYI-Replacement-...</td>\n",
              "    </tr>\n",
              "    <tr>\n",
              "      <th>53</th>\n",
              "      <td>LiRiQi Air Purifier HEPA Filter, Fine Dust and...</td>\n",
              "      <td>2.4 out of 5 stars</td>\n",
              "      <td>2</td>\n",
              "      <td>19.99</td>\n",
              "      <td>https://amazon.de/-/en/Purifier-Allergens-Ligh...</td>\n",
              "    </tr>\n",
              "    <tr>\n",
              "      <th>54</th>\n",
              "      <td>AIRROBO AR400 Original Replacement Filter, H13...</td>\n",
              "      <td>4.0 out of 5 stars</td>\n",
              "      <td>1</td>\n",
              "      <td>25.99</td>\n",
              "      <td>https://amazon.de/-/en/Replacement-Efficient-A...</td>\n",
              "    </tr>\n",
              "    <tr>\n",
              "      <th>55</th>\n",
              "      <td>NERIOX CLEAN-AIR Mobile Antiviral Air Purifier...</td>\n",
              "      <td>5.0 out of 5 stars</td>\n",
              "      <td>3</td>\n",
              "      <td>712.80</td>\n",
              "      <td>https://amazon.de/-/en/NERIOX-CLEAN-AIR-Antivi...</td>\n",
              "    </tr>\n",
              "    <tr>\n",
              "      <th>56</th>\n",
              "      <td>TOPPIN Air Purifier with H13 HEPA Filter TPAP0...</td>\n",
              "      <td>4.6 out of 5 stars</td>\n",
              "      <td>1,301</td>\n",
              "      <td>49.00</td>\n",
              "      <td>https://amazon.de/-/en/TOPPIN-Purifier-TPAP001...</td>\n",
              "    </tr>\n",
              "  </tbody>\n",
              "</table>\n",
              "</div>\n",
              "      <button class=\"colab-df-convert\" onclick=\"convertToInteractive('df-e62c365a-719e-4b0a-8a75-a2d9acdc7bcf')\"\n",
              "              title=\"Convert this dataframe to an interactive table.\"\n",
              "              style=\"display:none;\">\n",
              "        \n",
              "  <svg xmlns=\"http://www.w3.org/2000/svg\" height=\"24px\"viewBox=\"0 0 24 24\"\n",
              "       width=\"24px\">\n",
              "    <path d=\"M0 0h24v24H0V0z\" fill=\"none\"/>\n",
              "    <path d=\"M18.56 5.44l.94 2.06.94-2.06 2.06-.94-2.06-.94-.94-2.06-.94 2.06-2.06.94zm-11 1L8.5 8.5l.94-2.06 2.06-.94-2.06-.94L8.5 2.5l-.94 2.06-2.06.94zm10 10l.94 2.06.94-2.06 2.06-.94-2.06-.94-.94-2.06-.94 2.06-2.06.94z\"/><path d=\"M17.41 7.96l-1.37-1.37c-.4-.4-.92-.59-1.43-.59-.52 0-1.04.2-1.43.59L10.3 9.45l-7.72 7.72c-.78.78-.78 2.05 0 2.83L4 21.41c.39.39.9.59 1.41.59.51 0 1.02-.2 1.41-.59l7.78-7.78 2.81-2.81c.8-.78.8-2.07 0-2.86zM5.41 20L4 18.59l7.72-7.72 1.47 1.35L5.41 20z\"/>\n",
              "  </svg>\n",
              "      </button>\n",
              "      \n",
              "  <style>\n",
              "    .colab-df-container {\n",
              "      display:flex;\n",
              "      flex-wrap:wrap;\n",
              "      gap: 12px;\n",
              "    }\n",
              "\n",
              "    .colab-df-convert {\n",
              "      background-color: #E8F0FE;\n",
              "      border: none;\n",
              "      border-radius: 50%;\n",
              "      cursor: pointer;\n",
              "      display: none;\n",
              "      fill: #1967D2;\n",
              "      height: 32px;\n",
              "      padding: 0 0 0 0;\n",
              "      width: 32px;\n",
              "    }\n",
              "\n",
              "    .colab-df-convert:hover {\n",
              "      background-color: #E2EBFA;\n",
              "      box-shadow: 0px 1px 2px rgba(60, 64, 67, 0.3), 0px 1px 3px 1px rgba(60, 64, 67, 0.15);\n",
              "      fill: #174EA6;\n",
              "    }\n",
              "\n",
              "    [theme=dark] .colab-df-convert {\n",
              "      background-color: #3B4455;\n",
              "      fill: #D2E3FC;\n",
              "    }\n",
              "\n",
              "    [theme=dark] .colab-df-convert:hover {\n",
              "      background-color: #434B5C;\n",
              "      box-shadow: 0px 1px 3px 1px rgba(0, 0, 0, 0.15);\n",
              "      filter: drop-shadow(0px 1px 2px rgba(0, 0, 0, 0.3));\n",
              "      fill: #FFFFFF;\n",
              "    }\n",
              "  </style>\n",
              "\n",
              "      <script>\n",
              "        const buttonEl =\n",
              "          document.querySelector('#df-e62c365a-719e-4b0a-8a75-a2d9acdc7bcf button.colab-df-convert');\n",
              "        buttonEl.style.display =\n",
              "          google.colab.kernel.accessAllowed ? 'block' : 'none';\n",
              "\n",
              "        async function convertToInteractive(key) {\n",
              "          const element = document.querySelector('#df-e62c365a-719e-4b0a-8a75-a2d9acdc7bcf');\n",
              "          const dataTable =\n",
              "            await google.colab.kernel.invokeFunction('convertToInteractive',\n",
              "                                                     [key], {});\n",
              "          if (!dataTable) return;\n",
              "\n",
              "          const docLinkHtml = 'Like what you see? Visit the ' +\n",
              "            '<a target=\"_blank\" href=https://colab.research.google.com/notebooks/data_table.ipynb>data table notebook</a>'\n",
              "            + ' to learn more about interactive tables.';\n",
              "          element.innerHTML = '';\n",
              "          dataTable['output_type'] = 'display_data';\n",
              "          await google.colab.output.renderOutput(dataTable, element);\n",
              "          const docLink = document.createElement('div');\n",
              "          docLink.innerHTML = docLinkHtml;\n",
              "          element.appendChild(docLink);\n",
              "        }\n",
              "      </script>\n",
              "    </div>\n",
              "  </div>\n",
              "  "
            ]
          },
          "metadata": {},
          "execution_count": 8
        }
      ]
    },
    {
      "cell_type": "code",
      "source": [],
      "metadata": {
        "id": "ehjayoe89iKa"
      },
      "execution_count": 8,
      "outputs": []
    }
  ]
}