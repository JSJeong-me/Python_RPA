{
 "cells": [
  {
   "cell_type": "markdown",
   "metadata": {},
   "source": [
    "### Hangul\n",
    "### Example 2 Table Input"
   ]
  },
  {
   "cell_type": "code",
   "execution_count": null,
   "metadata": {},
   "outputs": [],
   "source": [
    "import win32com.client as win32\n",
    "import win32gui\n",
    "import shutil  # 파일복사용 모듈\n",
    "import time\n",
    "import os\n",
    "\n",
    "#hwp = win32.gencache.EnsureDispatch(\"HWPFrame.HwpObject\")  # Word.application\n",
    "# https://martinii.fun/246\n",
    "\n",
    "hwp = win32.gencache.EnsureDispatch('HWPFrame.HwpObject')\n",
    "hwp.RegisterModule(\"FilePathCheckDLL\", \"SecurityModule\")  # 보안모듈"
   ]
  },
  {
   "cell_type": "code",
   "execution_count": null,
   "metadata": {},
   "outputs": [],
   "source": []
  },
  {
   "cell_type": "code",
   "execution_count": null,
   "metadata": {},
   "outputs": [],
   "source": [
    "import pandas as pd\n",
    "import numpy as np"
   ]
  },
  {
   "cell_type": "code",
   "execution_count": null,
   "metadata": {},
   "outputs": [],
   "source": [
    "%cd C:\\Users\\oakyo\\Desktop\\"
   ]
  },
  {
   "cell_type": "code",
   "execution_count": null,
   "metadata": {},
   "outputs": [],
   "source": [
    "hwp.Open(r\"C:\\Users\\oakyo\\Desktop\\보고서\\iro-report\\{0}\".format(file_name),\"HWP\",None)\n",
    "# hwp.Open(r\"C:\\Users\\oakyo\\Desktop\\보고서\\uni-report\\{0}\".format(file_name),\"HWP\",None)\n",
    "hwp.GetFieldList(\"HWP\",None)\n",
    "\n",
    "field_list = [i for i in hwp.GetFieldList(\"HWP\",None).split(\"\\x02\")]  # 한/글 안의 누름틀 목록 불러오기\n",
    "\n",
    "# ['date', 'time', 'person', 'content0']\n",
    "\n",
    "DATE = row['시작 시간']\n",
    "HOURS = row['I']\n",
    "PERSON = row['students']\n",
    "CONTENTS = row['주제']\n",
    "URL = row['URL']\n",
    "NOTES = row['notes']\n",
    "ZOOM = row['zoom']\n",
    "\n",
    "time.sleep(1)\n",
    "hwp.PutFieldText('date', DATE)\n",
    "hwp.PutFieldText('time', HOURS)\n",
    "hwp.PutFieldText('person', PERSON)\n",
    "hwp.PutFieldText('students', PERSON)\n",
    "hwp.PutFieldText('content0', CONTENTS)\n",
    "hwp.PutFieldText('url', URL)\n",
    "time.sleep(1)\n",
    "\n",
    "hwp.HAction.GetDefault(\"TablePropertyDialog\", hwp.HParameterSet.HShapeObject.HSet)\n",
    "hwp.HParameterSet.HShapeObject.ShapeTableCell.Editable = 1\n",
    "hwp.HParameterSet.HShapeObject.ShapeTableCell.CellCtrlData.name = f\"note\"\n",
    "hwp.HAction.Execute(\"TablePropertyDialog\", hwp.HParameterSet.HShapeObject.HSet)\n",
    "\n",
    "hwp.HAction.Run(\"TableRightCell\")\n",
    "hwp.HAction.Run(\"TableRightCell\")\n",
    "hwp.HAction.Run(\"TableRightCell\")\n",
    "hwp.HAction.Run(\"TableRightCell\")\n",
    "\n",
    "hwp.HAction.GetDefault(\"TablePropertyDialog\", hwp.HParameterSet.HShapeObject.HSet)\n",
    "hwp.HParameterSet.HShapeObject.ShapeTableCell.Editable = 1\n",
    "hwp.HParameterSet.HShapeObject.ShapeTableCell.CellCtrlData.name = f\"zoom\"\n",
    "hwp.HAction.Execute(\"TablePropertyDialog\", hwp.HParameterSet.HShapeObject.HSet)\n",
    "\n",
    "hwp.MoveToField('note')  # 해당 필드로 이동\n",
    "hwp.InsertPicture(os.path.join(BASE_DIR, NOTES), Embedded=True,\n",
    "                  sizeoption=3)  # 이미지 삽입\n",
    "\n",
    "time.sleep(1)\n",
    "\n",
    "hwp.MoveToField('zoom')  # 해당 필드로 이동\n",
    "hwp.InsertPicture(os.path.join(BASE_DIR_IMAGE, ZOOM), Embedded=True,\n",
    "                  sizeoption=3)  # 이미지 삽입\n",
    "\n",
    "time.sleep(1)\n",
    "hwp.Save(\"HWP\")\n",
    "time.sleep(1)"
   ]
  },
  {
   "cell_type": "code",
   "execution_count": null,
   "metadata": {},
   "outputs": [],
   "source": [
    "hwp.Quit()"
   ]
  },
  {
   "cell_type": "code",
   "execution_count": null,
   "metadata": {},
   "outputs": [],
   "source": []
  },
  {
   "cell_type": "code",
   "execution_count": null,
   "metadata": {},
   "outputs": [],
   "source": []
  },
  {
   "cell_type": "code",
   "execution_count": null,
   "metadata": {},
   "outputs": [],
   "source": []
  },
  {
   "cell_type": "code",
   "execution_count": null,
   "metadata": {},
   "outputs": [],
   "source": []
  },
  {
   "cell_type": "code",
   "execution_count": null,
   "metadata": {},
   "outputs": [],
   "source": []
  },
  {
   "cell_type": "code",
   "execution_count": null,
   "metadata": {},
   "outputs": [],
   "source": []
  },
  {
   "cell_type": "code",
   "execution_count": null,
   "metadata": {},
   "outputs": [],
   "source": []
  },
  {
   "cell_type": "code",
   "execution_count": null,
   "metadata": {},
   "outputs": [],
   "source": [
    "'''\n",
    "page = 1\n",
    "for field in field_list:  # 모든 누름틀에 각각,\n",
    "        hwp.MoveToField(f'{field}{{{{{page}}}}}')  # 커서를 해당 누름틀로 이동(작성과정을 지켜보기 위함. 없어도 무관)\n",
    "        hwp.PutFieldText(f'{field}{{{{{page}}}}}',  # f\"{{{{{page}}}}}\"는 \"{{1}}\"로 입력된다. {를 출력하려면 {{를 입력.\n",
    "                         excel[field].iloc[page])  # hwp.PutFieldText(\"index{{1}}\") 식으로 실행될 것.\n",
    "    print(f'{page + 1}:{excel.name[page]}')  # 현재 입력이 진행되고 있는 한/글문서 페이지번호를 콘솔창에 출력\n",
    "'''"
   ]
  },
  {
   "cell_type": "code",
   "execution_count": null,
   "metadata": {},
   "outputs": [],
   "source": [
    "# hwp.MoveToField(j)  # 해당 필드로 이동\n",
    "# hwp.InsertPicture(os.path.join(BASE_DIR, f\"{content + j.split('_', maxsplit=1)[1]}.png\"), Embedded=True,\n",
    "#                   sizeoption=3)  # 이미지 삽입"
   ]
  },
  {
   "cell_type": "code",
   "execution_count": null,
   "metadata": {},
   "outputs": [],
   "source": []
  },
  {
   "cell_type": "code",
   "execution_count": null,
   "metadata": {},
   "outputs": [],
   "source": []
  },
  {
   "cell_type": "code",
   "execution_count": null,
   "metadata": {},
   "outputs": [],
   "source": []
  }
 ],
 "metadata": {
  "kernelspec": {
   "display_name": "Python 3 (ipykernel)",
   "language": "python",
   "name": "python3"
  },
  "language_info": {
   "codemirror_mode": {
    "name": "ipython",
    "version": 3
   },
   "file_extension": ".py",
   "mimetype": "text/x-python",
   "name": "python",
   "nbconvert_exporter": "python",
   "pygments_lexer": "ipython3",
   "version": "3.9.12"
  }
 },
 "nbformat": 4,
 "nbformat_minor": 4
}
