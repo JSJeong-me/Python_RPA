{
 "cells": [
  {
   "cell_type": "markdown",
   "metadata": {},
   "source": [
    "### Hangul\n",
    "### Example 2 Table Input"
   ]
  },
  {
   "cell_type": "code",
   "execution_count": 1,
   "metadata": {},
   "outputs": [
    {
     "data": {
      "text/plain": [
       "True"
      ]
     },
     "execution_count": 1,
     "metadata": {},
     "output_type": "execute_result"
    }
   ],
   "source": [
    "import win32com.client as win32\n",
    "import win32gui\n",
    "import shutil  # 파일복사용 모듈\n",
    "import time\n",
    "import os\n",
    "\n",
    "#hwp = win32.gencache.EnsureDispatch(\"HWPFrame.HwpObject\")  # Word.application\n",
    "# https://martinii.fun/246\n",
    "\n",
    "hwp = win32.gencache.EnsureDispatch('HWPFrame.HwpObject')\n",
    "hwp.RegisterModule(\"FilePathCheckDLL\", \"SecurityModule\")  # 보안모듈"
   ]
  },
  {
   "cell_type": "code",
   "execution_count": 2,
   "metadata": {},
   "outputs": [],
   "source": [
    "CSV_DIR = \"C:\\\\Users\\\\oakyo\\\\Desktop\\\\보고서\"\n",
    "BASE_DIR = \"C:\\\\Users\\\\oakyo\\\\Desktop\\\\보고서\\\\notes\"\n",
    "BASE_DIR_IMAGE = \"C:\\\\Users\\\\oakyo\\\\Desktop\\\\보고서\\\\zoom-dump\"\n",
    "UNI_CSV = \"{0}\\\\uni_csv-1024.csv\".format(CSV_DIR)\n",
    "IRO_CSV = \"{0}\\\\iro_csv-1024.csv\".format(CSV_DIR)"
   ]
  },
  {
   "cell_type": "code",
   "execution_count": 3,
   "metadata": {},
   "outputs": [],
   "source": [
    "import pandas as pd\n",
    "import numpy as np"
   ]
  },
  {
   "cell_type": "code",
   "execution_count": 4,
   "metadata": {},
   "outputs": [],
   "source": [
    "UNI_DF = pd.read_csv(UNI_CSV)\n",
    "IRO_DF = pd.read_csv(IRO_CSV)"
   ]
  },
  {
   "cell_type": "code",
   "execution_count": 5,
   "metadata": {},
   "outputs": [],
   "source": [
    "# IRO_DF.columns"
   ]
  },
  {
   "cell_type": "code",
   "execution_count": 6,
   "metadata": {},
   "outputs": [
    {
     "data": {
      "text/plain": [
       "Index(['Unnamed: 0', '주제', 'ID', '시작 시간', '파일 크기', '파일 크기.1', '총 보기 수',\n",
       "       '총 다운로드 수', '마지막으로 액세스됨', 'Unnamed: 8', 'Unnamed: 9', 'U', 'I',\n",
       "       'students', 'notes', 'zoom', 'URL'],\n",
       "      dtype='object')"
      ]
     },
     "execution_count": 6,
     "metadata": {},
     "output_type": "execute_result"
    }
   ],
   "source": [
    "UNI_DF.columns"
   ]
  },
  {
   "cell_type": "code",
   "execution_count": 5,
   "metadata": {},
   "outputs": [
    {
     "name": "stdout",
     "output_type": "stream",
     "text": [
      "C:\\Users\\oakyo\\Desktop\\보고서\\iro-report\n"
     ]
    }
   ],
   "source": [
    "%cd C:\\Users\\oakyo\\Desktop\\보고서\\iro-report"
   ]
  },
  {
   "cell_type": "code",
   "execution_count": 8,
   "metadata": {},
   "outputs": [
    {
     "name": "stdout",
     "output_type": "stream",
     "text": [
      "C:\\Users\\oakyo\\Desktop\\보고서\\uni-report\n"
     ]
    }
   ],
   "source": [
    "# %cd C:\\Users\\oakyo\\Desktop\\보고서\\uni-report"
   ]
  },
  {
   "cell_type": "code",
   "execution_count": 6,
   "metadata": {},
   "outputs": [
    {
     "name": "stdout",
     "output_type": "stream",
     "text": [
      "0 10월 20, 2022 16:28:01\n",
      "1 10월 19, 2022 13:13:02\n",
      "2 10월 17, 2022 17:53:03\n",
      "3 10월 17, 2022 13:11:36\n",
      "4 10월 06, 2022 13:05:25\n",
      "5 10월 04, 2022 16:27:56\n",
      "6 10월 04, 2022 12:50:13\n",
      "7 9월 30, 2022 10:30\n",
      "8 9월 20, 2022 13:20:55\n"
     ]
    },
    {
     "ename": "TypeError",
     "evalue": "join() argument must be str, bytes, or os.PathLike object, not 'float'",
     "output_type": "error",
     "traceback": [
      "\u001b[1;31m---------------------------------------------------------------------------\u001b[0m",
      "\u001b[1;31mTypeError\u001b[0m                                 Traceback (most recent call last)",
      "Input \u001b[1;32mIn [6]\u001b[0m, in \u001b[0;36m<module>\u001b[1;34m\u001b[0m\n\u001b[0;32m     48\u001b[0m hwp\u001b[38;5;241m.\u001b[39mHAction\u001b[38;5;241m.\u001b[39mExecute(\u001b[38;5;124m\"\u001b[39m\u001b[38;5;124mTablePropertyDialog\u001b[39m\u001b[38;5;124m\"\u001b[39m, hwp\u001b[38;5;241m.\u001b[39mHParameterSet\u001b[38;5;241m.\u001b[39mHShapeObject\u001b[38;5;241m.\u001b[39mHSet)\n\u001b[0;32m     50\u001b[0m hwp\u001b[38;5;241m.\u001b[39mMoveToField(\u001b[38;5;124m'\u001b[39m\u001b[38;5;124mnote\u001b[39m\u001b[38;5;124m'\u001b[39m)  \u001b[38;5;66;03m# 해당 필드로 이동\u001b[39;00m\n\u001b[1;32m---> 51\u001b[0m hwp\u001b[38;5;241m.\u001b[39mInsertPicture(\u001b[43mos\u001b[49m\u001b[38;5;241;43m.\u001b[39;49m\u001b[43mpath\u001b[49m\u001b[38;5;241;43m.\u001b[39;49m\u001b[43mjoin\u001b[49m\u001b[43m(\u001b[49m\u001b[43mBASE_DIR\u001b[49m\u001b[43m,\u001b[49m\u001b[43m \u001b[49m\u001b[43mNOTES\u001b[49m\u001b[43m)\u001b[49m, Embedded\u001b[38;5;241m=\u001b[39m\u001b[38;5;28;01mTrue\u001b[39;00m,\n\u001b[0;32m     52\u001b[0m                   sizeoption\u001b[38;5;241m=\u001b[39m\u001b[38;5;241m3\u001b[39m)  \u001b[38;5;66;03m# 이미지 삽입\u001b[39;00m\n\u001b[0;32m     54\u001b[0m time\u001b[38;5;241m.\u001b[39msleep(\u001b[38;5;241m1\u001b[39m)\n\u001b[0;32m     56\u001b[0m hwp\u001b[38;5;241m.\u001b[39mMoveToField(\u001b[38;5;124m'\u001b[39m\u001b[38;5;124mzoom\u001b[39m\u001b[38;5;124m'\u001b[39m)  \u001b[38;5;66;03m# 해당 필드로 이동\u001b[39;00m\n",
      "File \u001b[1;32m~\\anaconda3\\lib\\ntpath.py:117\u001b[0m, in \u001b[0;36mjoin\u001b[1;34m(path, *paths)\u001b[0m\n\u001b[0;32m    115\u001b[0m     \u001b[38;5;28;01mreturn\u001b[39;00m result_drive \u001b[38;5;241m+\u001b[39m result_path\n\u001b[0;32m    116\u001b[0m \u001b[38;5;28;01mexcept\u001b[39;00m (\u001b[38;5;167;01mTypeError\u001b[39;00m, \u001b[38;5;167;01mAttributeError\u001b[39;00m, \u001b[38;5;167;01mBytesWarning\u001b[39;00m):\n\u001b[1;32m--> 117\u001b[0m     \u001b[43mgenericpath\u001b[49m\u001b[38;5;241;43m.\u001b[39;49m\u001b[43m_check_arg_types\u001b[49m\u001b[43m(\u001b[49m\u001b[38;5;124;43m'\u001b[39;49m\u001b[38;5;124;43mjoin\u001b[39;49m\u001b[38;5;124;43m'\u001b[39;49m\u001b[43m,\u001b[49m\u001b[43m \u001b[49m\u001b[43mpath\u001b[49m\u001b[43m,\u001b[49m\u001b[43m \u001b[49m\u001b[38;5;241;43m*\u001b[39;49m\u001b[43mpaths\u001b[49m\u001b[43m)\u001b[49m\n\u001b[0;32m    118\u001b[0m     \u001b[38;5;28;01mraise\u001b[39;00m\n",
      "File \u001b[1;32m~\\anaconda3\\lib\\genericpath.py:152\u001b[0m, in \u001b[0;36m_check_arg_types\u001b[1;34m(funcname, *args)\u001b[0m\n\u001b[0;32m    150\u001b[0m         hasbytes \u001b[38;5;241m=\u001b[39m \u001b[38;5;28;01mTrue\u001b[39;00m\n\u001b[0;32m    151\u001b[0m     \u001b[38;5;28;01melse\u001b[39;00m:\n\u001b[1;32m--> 152\u001b[0m         \u001b[38;5;28;01mraise\u001b[39;00m \u001b[38;5;167;01mTypeError\u001b[39;00m(\u001b[38;5;124mf\u001b[39m\u001b[38;5;124m'\u001b[39m\u001b[38;5;132;01m{\u001b[39;00mfuncname\u001b[38;5;132;01m}\u001b[39;00m\u001b[38;5;124m() argument must be str, bytes, or \u001b[39m\u001b[38;5;124m'\u001b[39m\n\u001b[0;32m    153\u001b[0m                         \u001b[38;5;124mf\u001b[39m\u001b[38;5;124m'\u001b[39m\u001b[38;5;124mos.PathLike object, not \u001b[39m\u001b[38;5;132;01m{\u001b[39;00ms\u001b[38;5;241m.\u001b[39m\u001b[38;5;18m__class__\u001b[39m\u001b[38;5;241m.\u001b[39m\u001b[38;5;18m__name__\u001b[39m\u001b[38;5;132;01m!r}\u001b[39;00m\u001b[38;5;124m'\u001b[39m) \u001b[38;5;28;01mfrom\u001b[39;00m \u001b[38;5;28mNone\u001b[39m\n\u001b[0;32m    154\u001b[0m \u001b[38;5;28;01mif\u001b[39;00m hasstr \u001b[38;5;129;01mand\u001b[39;00m hasbytes:\n\u001b[0;32m    155\u001b[0m     \u001b[38;5;28;01mraise\u001b[39;00m \u001b[38;5;167;01mTypeError\u001b[39;00m(\u001b[38;5;124m\"\u001b[39m\u001b[38;5;124mCan\u001b[39m\u001b[38;5;124m'\u001b[39m\u001b[38;5;124mt mix strings and bytes in path components\u001b[39m\u001b[38;5;124m\"\u001b[39m) \u001b[38;5;28;01mfrom\u001b[39;00m \u001b[38;5;28mNone\u001b[39m\n",
      "\u001b[1;31mTypeError\u001b[0m: join() argument must be str, bytes, or os.PathLike object, not 'float'"
     ]
    }
   ],
   "source": [
    "for index, row in IRO_DF.iterrows():\n",
    "# for index, row in UNI_DF.iterrows():\n",
    "    str_uni = row['시작 시간']\n",
    "    print(index, str_uni)\n",
    "    file_name = \"IRO-{0}.hwp\".format(str_uni)\n",
    "    # file_name = \"UNI-{0}.hwp\".format(str_uni)\n",
    "    file_name = file_name.replace(\",\", \" \")\n",
    "    file_name = file_name.replace(\":\", \" \")\n",
    "    shutil.copyfile(r\".\\..\\report.hwp\",  # 원본은 그대로 두고,\n",
    "                r\"{0}\".format(file_name))  # 복사한 파일을 수정하려고 함.\n",
    "    hwp.Open(r\"C:\\Users\\oakyo\\Desktop\\보고서\\iro-report\\{0}\".format(file_name),\"HWP\",None)\n",
    "    # hwp.Open(r\"C:\\Users\\oakyo\\Desktop\\보고서\\uni-report\\{0}\".format(file_name),\"HWP\",None)\n",
    "    hwp.GetFieldList(\"HWP\",None)\n",
    "    field_list = [i for i in hwp.GetFieldList(\"HWP\",None).split(\"\\x02\")]  # 한/글 안의 누름틀 목록 불러오기\n",
    "    \n",
    "    # ['date', 'time', 'person', 'content0']\n",
    "    \n",
    "    DATE = row['시작 시간']\n",
    "    HOURS = row['I']\n",
    "    PERSON = row['students']\n",
    "    CONTENTS = row['주제']\n",
    "    URL = row['URL']\n",
    "    NOTES = row['notes']\n",
    "    ZOOM = row['zoom']\n",
    "    \n",
    "    time.sleep(1)\n",
    "    hwp.PutFieldText('date', DATE)\n",
    "    hwp.PutFieldText('time', HOURS)\n",
    "    hwp.PutFieldText('person', PERSON)\n",
    "    hwp.PutFieldText('students', PERSON)\n",
    "    hwp.PutFieldText('content0', CONTENTS)\n",
    "    hwp.PutFieldText('url', URL)\n",
    "    time.sleep(1)\n",
    "    \n",
    "    hwp.HAction.GetDefault(\"TablePropertyDialog\", hwp.HParameterSet.HShapeObject.HSet)\n",
    "    hwp.HParameterSet.HShapeObject.ShapeTableCell.Editable = 1\n",
    "    hwp.HParameterSet.HShapeObject.ShapeTableCell.CellCtrlData.name = f\"note\"\n",
    "    hwp.HAction.Execute(\"TablePropertyDialog\", hwp.HParameterSet.HShapeObject.HSet)\n",
    "    \n",
    "    hwp.HAction.Run(\"TableRightCell\")\n",
    "    hwp.HAction.Run(\"TableRightCell\")\n",
    "    hwp.HAction.Run(\"TableRightCell\")\n",
    "    hwp.HAction.Run(\"TableRightCell\")\n",
    "    \n",
    "    hwp.HAction.GetDefault(\"TablePropertyDialog\", hwp.HParameterSet.HShapeObject.HSet)\n",
    "    hwp.HParameterSet.HShapeObject.ShapeTableCell.Editable = 1\n",
    "    hwp.HParameterSet.HShapeObject.ShapeTableCell.CellCtrlData.name = f\"zoom\"\n",
    "    hwp.HAction.Execute(\"TablePropertyDialog\", hwp.HParameterSet.HShapeObject.HSet)\n",
    "    \n",
    "    hwp.MoveToField('note')  # 해당 필드로 이동\n",
    "    hwp.InsertPicture(os.path.join(BASE_DIR, NOTES), Embedded=True,\n",
    "                      sizeoption=3)  # 이미지 삽입\n",
    "    \n",
    "    time.sleep(1)\n",
    "    \n",
    "    hwp.MoveToField('zoom')  # 해당 필드로 이동\n",
    "    hwp.InsertPicture(os.path.join(BASE_DIR_IMAGE, ZOOM), Embedded=True,\n",
    "                      sizeoption=3)  # 이미지 삽입\n",
    "    \n",
    "    time.sleep(1)\n",
    "    hwp.Save(\"HWP\")\n",
    "    time.sleep(1)"
   ]
  },
  {
   "cell_type": "code",
   "execution_count": null,
   "metadata": {},
   "outputs": [],
   "source": [
    "hwp.Quit()"
   ]
  },
  {
   "cell_type": "code",
   "execution_count": null,
   "metadata": {},
   "outputs": [],
   "source": []
  },
  {
   "cell_type": "code",
   "execution_count": null,
   "metadata": {},
   "outputs": [],
   "source": []
  },
  {
   "cell_type": "code",
   "execution_count": null,
   "metadata": {},
   "outputs": [],
   "source": []
  },
  {
   "cell_type": "code",
   "execution_count": null,
   "metadata": {},
   "outputs": [],
   "source": []
  },
  {
   "cell_type": "code",
   "execution_count": null,
   "metadata": {},
   "outputs": [],
   "source": []
  },
  {
   "cell_type": "code",
   "execution_count": null,
   "metadata": {},
   "outputs": [],
   "source": []
  },
  {
   "cell_type": "code",
   "execution_count": null,
   "metadata": {},
   "outputs": [],
   "source": []
  },
  {
   "cell_type": "code",
   "execution_count": null,
   "metadata": {},
   "outputs": [],
   "source": [
    "'''\n",
    "page = 1\n",
    "for field in field_list:  # 모든 누름틀에 각각,\n",
    "        hwp.MoveToField(f'{field}{{{{{page}}}}}')  # 커서를 해당 누름틀로 이동(작성과정을 지켜보기 위함. 없어도 무관)\n",
    "        hwp.PutFieldText(f'{field}{{{{{page}}}}}',  # f\"{{{{{page}}}}}\"는 \"{{1}}\"로 입력된다. {를 출력하려면 {{를 입력.\n",
    "                         excel[field].iloc[page])  # hwp.PutFieldText(\"index{{1}}\") 식으로 실행될 것.\n",
    "    print(f'{page + 1}:{excel.name[page]}')  # 현재 입력이 진행되고 있는 한/글문서 페이지번호를 콘솔창에 출력\n",
    "'''"
   ]
  },
  {
   "cell_type": "code",
   "execution_count": null,
   "metadata": {},
   "outputs": [],
   "source": [
    "# hwp.MoveToField(j)  # 해당 필드로 이동\n",
    "# hwp.InsertPicture(os.path.join(BASE_DIR, f\"{content + j.split('_', maxsplit=1)[1]}.png\"), Embedded=True,\n",
    "#                   sizeoption=3)  # 이미지 삽입"
   ]
  },
  {
   "cell_type": "code",
   "execution_count": null,
   "metadata": {},
   "outputs": [],
   "source": []
  },
  {
   "cell_type": "code",
   "execution_count": null,
   "metadata": {},
   "outputs": [],
   "source": []
  },
  {
   "cell_type": "code",
   "execution_count": null,
   "metadata": {},
   "outputs": [],
   "source": []
  }
 ],
 "metadata": {
  "kernelspec": {
   "display_name": "Python 3 (ipykernel)",
   "language": "python",
   "name": "python3"
  },
  "language_info": {
   "codemirror_mode": {
    "name": "ipython",
    "version": 3
   },
   "file_extension": ".py",
   "mimetype": "text/x-python",
   "name": "python",
   "nbconvert_exporter": "python",
   "pygments_lexer": "ipython3",
   "version": "3.9.12"
  }
 },
 "nbformat": 4,
 "nbformat_minor": 4
}
