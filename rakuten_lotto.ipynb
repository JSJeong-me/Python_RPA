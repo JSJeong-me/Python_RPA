{
  "nbformat": 4,
  "nbformat_minor": 0,
  "metadata": {
    "colab": {
      "provenance": [],
      "authorship_tag": "ABX9TyP7+TLXRR6tz7u2RGrcYRnb",
      "include_colab_link": true
    },
    "kernelspec": {
      "name": "python3",
      "display_name": "Python 3"
    },
    "language_info": {
      "name": "python"
    }
  },
  "cells": [
    {
      "cell_type": "markdown",
      "metadata": {
        "id": "view-in-github",
        "colab_type": "text"
      },
      "source": [
        "<a href=\"https://colab.research.google.com/github/JSJeong-me/Python_RPA/blob/main/rakuten_lotto.ipynb\" target=\"_parent\"><img src=\"https://colab.research.google.com/assets/colab-badge.svg\" alt=\"Open In Colab\"/></a>"
      ]
    },
    {
      "cell_type": "code",
      "source": [
        "import requests\n",
        "from bs4 import BeautifulSoup \n",
        "from urllib.request import urlopen\n",
        "import os\n",
        "import datetime \n"
      ],
      "metadata": {
        "id": "TBMKWeGZE4S6"
      },
      "execution_count": 1,
      "outputs": []
    },
    {
      "cell_type": "code",
      "execution_count": 2,
      "metadata": {
        "id": "8pcaOaxQEuFC"
      },
      "outputs": [],
      "source": [
        "\n",
        "#로또정보크롤링 함수\n",
        "def Loto6AutoRecentlyHtmlNew(url):\n",
        "    result = \"\"\n",
        "\n",
        "    #로또정보제공사이트주소에 접속후 Html정보얻어오기\n",
        "    #\"https://takarakuji.rakuten.co.jp/backnumber/loto6/\"\n",
        "    source_code = requests.get(url)\n",
        "    source_code.encoding = source_code.apparent_encoding\n",
        "    \n",
        "    #로또정보제공사이트의 Html정보를 문자로변환\n",
        "    plain_text = source_code.text\n",
        "\n",
        "    #로또정보제공사이트의 문자정보를 Html형태로변환\n",
        "    soup = BeautifulSoup(plain_text, 'html.parser')\n",
        "\n",
        "    #로또정보를 테이블형태로 변환해서 출력\n",
        "    result=\"\"\n",
        "    result += \"<center>\"\n",
        "    result += \"<h2>楽天×宝くじサイトからロート6の最近当選番号取得</h2>\"\n",
        "    result += \"<table border='1'>\"\n",
        "    result += \"<tr>\"\n",
        "    result += \"<th>回号</th>\"\n",
        "    result += \"<th>抽せん日</th>\"\n",
        "    result += \"<th colspan='6'>本数字</th>\"\n",
        "    result += \"<th>ボーナス数字</th>\"\n",
        "    result += \"</tr>\"\n",
        "\n",
        "    #로또정보제공사이트의 Html형식의 정보를 분석후 로또정보만 가져와서 Table입력\n",
        "    for table in soup.findAll('table', {'class': 'tblType02'}):\n",
        "        rows = table.findAll(\"tr\")\n",
        "        result += \"<tr>\"\n",
        "        rowsnumber = 0\n",
        "\n",
        "        for row in rows:\n",
        "            if rowsnumber == 0:             #로또회차 가져오기\n",
        "                for cell in row.findAll('th',{'colspan': '6'}):\n",
        "                    result += \"<td>\" + cell.text.replace(\"第\",\"\").replace(\"回\",\"\") + \"</td>\"\n",
        "            elif rowsnumber == 1:           #로또번호 추점일 가져오기\n",
        "                for cell in row.findAll('td',{'colspan': '6'}):\n",
        "                    result += \"<td>\" + cell.text + \"</td>\"\n",
        "            elif rowsnumber == 2:           #로또번호 가져오기\n",
        "                for cell in row.findAll(['td']):\n",
        "                    result += \"<td>\" + cell.text + \"</td>\"\n",
        "            elif rowsnumber == 3:           #로또보너스번호 가져오기\n",
        "                for cell in row.findAll(['td']):\n",
        "                    if cell.text != \"\":\n",
        "                        result += \"<td>\" + cell.text.replace(\"(\",\"\").replace(\")\",\"\") + \"</td>\"      \n",
        "            \n",
        "            rowsnumber += 1      \n",
        "\n",
        "        result += \"<tr>\"\n",
        "        \n",
        "    result += \"</table>\"\n",
        "    result += \"</center>\"\n",
        "        \n",
        "    return result"
      ]
    },
    {
      "cell_type": "code",
      "source": [
        "Loto6AutoRecentlyHtmlNew('https://takarakuji.rakuten.co.jp/backnumber/loto6/')"
      ],
      "metadata": {
        "colab": {
          "base_uri": "https://localhost:8080/",
          "height": 161
        },
        "id": "HAKLuVicFBMs",
        "outputId": "a275733a-87d5-43da-88a4-201243c3aac7"
      },
      "execution_count": 4,
      "outputs": [
        {
          "output_type": "execute_result",
          "data": {
            "text/plain": [
              "\"<center><h2>楽天×宝くじサイトからロート6の最近当選番号取得</h2><table border='1'><tr><th>回号</th><th>抽せん日</th><th colspan='6'>本数字</th><th>ボーナス数字</th></tr><tr><td>1726</td><td>2022/09/22</td><td>9</td><td>14</td><td>16</td><td>21</td><td>27</td><td>43</td><td>26</td><tr><tr><td>1725</td><td>2022/09/19</td><td>2</td><td>10</td><td>16</td><td>17</td><td>20</td><td>28</td><td>1</td><tr><tr><td>1724</td><td>2022/09/15</td><td>6</td><td>9</td><td>24</td><td>26</td><td>33</td><td>37</td><td>16</td><tr><tr><td>1723</td><td>2022/09/12</td><td>6</td><td>10</td><td>15</td><td>16</td><td>30</td><td>38</td><td>26</td><tr><tr><td>1722</td><td>2022/09/08</td><td>2</td><td>5</td><td>30</td><td>33</td><td>36</td><td>42</td><td>28</td><tr><tr><td>1721</td><td>2022/09/05</td><td>7</td><td>8</td><td>14</td><td>17</td><td>22</td><td>39</td><td>30</td><tr><tr><td>1720</td><td>2022/09/01</td><td>1</td><td>5</td><td>18</td><td>25</td><td>32</td><td>38</td><td>20</td><tr></table></center>\""
            ],
            "application/vnd.google.colaboratory.intrinsic+json": {
              "type": "string"
            }
          },
          "metadata": {},
          "execution_count": 4
        }
      ]
    }
  ]
}